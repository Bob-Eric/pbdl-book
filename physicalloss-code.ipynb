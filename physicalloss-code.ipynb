{
 "cells": [
  {
   "cell_type": "markdown",
   "metadata": {},
   "source": [
    "# PINN Example\n",
    "Burgers example $u=...$\n",
    "\n",
    "at $t=0$ , sine function (boundary_t0)\n",
    "\n",
    "at sides $t \\in [0,1], u=0$ (open_boundary)"
   ]
  },
  {
   "cell_type": "code",
   "execution_count": 1,
   "metadata": {},
   "outputs": [
    {
     "name": "stdout",
     "output_type": "stream",
     "text": [
      "Could not load resample cuda libraries: CUDA binaries not found at /Users/thuerey/Dropbox/mbaDevelSelected/phiflow-v1.5/phi/tf/cuda/build/resample.so. Run \"python setup.py cuda\" to compile them\n",
      "WARNING:tensorflow:From /Users/thuerey/Dropbox/mbaDevelSelected/phiflow-v1.5/phi/tf/util.py:119: The name tf.AUTO_REUSE is deprecated. Please use tf.compat.v1.AUTO_REUSE instead.\n",
      "\n",
      "WARNING:tensorflow:From /Users/thuerey/Dropbox/mbaDevelSelected/phiflow-v1.5/phi/tf/profiling.py:12: The name tf.RunOptions is deprecated. Please use tf.compat.v1.RunOptions instead.\n",
      "\n",
      "WARNING:tensorflow:From /Users/thuerey/Dropbox/mbaDevelSelected/phiflow-v1.5/phi/tf/profiling.py:13: The name tf.RunMetadata is deprecated. Please use tf.compat.v1.RunMetadata instead.\n",
      "\n"
     ]
    },
    {
     "name": "stderr",
     "output_type": "stream",
     "text": [
      "/Users/thuerey/Dropbox/mbaDevelSelected/phiflow-v1.5/phi/tf/flow.py:15: UserWarning: TensorFlow-CUDA solver is not available. To compile it, download phiflow sources and run\n",
      "$ python setup.py tf_cuda\n",
      "before reinstalling phiflow.\n",
      "  warnings.warn(\"TensorFlow-CUDA solver is not available. To compile it, download phiflow sources and run\\n$ python setup.py tf_cuda\\nbefore reinstalling phiflow.\")\n"
     ]
    }
   ],
   "source": [
    "# PINN in jupyter test, from \n",
    "# https://github.com/tum-pbs/PhiFlow/blob/1.5/demos/PINN_burgers.py\n",
    "# https://colab.research.google.com/drive/1S21OY8hzh1oZK2wQyL3BNXvSlrMTtRbV#offline=true&sandboxMode=true\n",
    "\n",
    "from phi.tf.flow import *\n",
    "\n",
    "#rnd = TF_BACKEND  # sample different points in the domain each iteration\n",
    "rnd = math.choose_backend(1)  # use same random points for all iterations\n",
    "\n",
    "\n",
    "def network(x, t):\n",
    "    \"\"\" Dense neural network with 8 hidden layers and 3021 parameters in total.\n",
    "        Parameters will only be allocated once (auto reuse).\n",
    "    \"\"\"\n",
    "    y = math.stack([x, t], axis=-1)\n",
    "    for i in range(8):\n",
    "        y = tf.layers.dense(y, 20, activation=tf.math.tanh, name='layer%d' % i, reuse=tf.AUTO_REUSE)\n",
    "    return tf.layers.dense(y, 1, activation=None, name='layer_out', reuse=tf.AUTO_REUSE)\n",
    "\n",
    "\n",
    "def f(u, x, t):\n",
    "    \"\"\" Physics-based loss function with Burgers equation \"\"\"\n",
    "    u_t = gradients(u, t)\n",
    "    u_x = gradients(u, x)\n",
    "    u_xx = gradients(u_x, x)\n",
    "    return u_t + u*u_x - (0.01 / np.pi) * u_xx\n",
    "\n",
    "\n",
    "def boundary_t0(N):\n",
    "    x = rnd.random_uniform([N], -1, 1)\n",
    "    t = rnd.zeros_like(x)\n",
    "    u = - math.sin(np.pi * x)\n",
    "    return x, t, u\n",
    "\n",
    "\n",
    "def open_boundary(N):\n",
    "    t = rnd.random_uniform([N], 0, 1)\n",
    "    x = math.concat([math.zeros([N//2]) + 1, math.zeros([N//2]) - 1], axis=0)\n",
    "    u = math.zeros([N])\n",
    "    return x, t, u\n",
    "\n"
   ]
  },
  {
   "cell_type": "markdown",
   "metadata": {},
   "source": [
    "Setup sampling points in inner domain"
   ]
  },
  {
   "cell_type": "code",
   "execution_count": 2,
   "metadata": {},
   "outputs": [
    {
     "name": "stdout",
     "output_type": "stream",
     "text": [
      "WARNING:tensorflow:From <ipython-input-1-832bb7c21ee0>:17: dense (from tensorflow.python.layers.core) is deprecated and will be removed in a future version.\n",
      "Instructions for updating:\n",
      "Use keras.layers.Dense instead.\n",
      "WARNING:tensorflow:From /usr/local/lib/python3.7/site-packages/tensorflow_core/python/layers/core.py:187: Layer.apply (from tensorflow.python.keras.engine.base_layer) is deprecated and will be removed in a future version.\n",
      "Instructions for updating:\n",
      "Please use `layer.__call__` method instead.\n"
     ]
    }
   ],
   "source": [
    "# generate array with positions: \n",
    "#   -1 to 1 spatial with 128 cells\n",
    "#   0 to 1 in time with 1+32 timesteps\n",
    "grids_xt = np.meshgrid(np.linspace(-1, 1, 128), np.linspace(0, 1, 33), indexing='ij')\n",
    "grid_x, grid_t = [tf.convert_to_tensor(t, tf.float32) for t in grids_xt]\n",
    "\n",
    "# # gx ,gt = \n",
    "# #[tf.convert_to_tensor(t, tf.float32) \n",
    "# # for t in np.meshgrid( np.linspace(-1, 1, 128), np.linspace(0, 1, 33), indexing='ij')]\n",
    "\n",
    "# for t in np.meshgrid( np.linspace(-1, 1, 128), np.linspace(0, 1, 33), indexing='ij'):\n",
    "#     print(format(t.shape))\n",
    "#     print(format(t))\n",
    "\n",
    "# #tx = np.meshgrid( np.linspace(-1, 1, 128), indexing='ij')\n",
    "# print(format(grid_x))\n",
    "# print(format(grid_x.shape))\n",
    "\n",
    "# create 4D tensor with batch and channel dimensions in addition to space and time\n",
    "# in this case gives shape=(1, 128, 33, 1)\n",
    "grid_u = math.expand_dims(network(grid_x, grid_t))"
   ]
  },
  {
   "cell_type": "code",
   "execution_count": null,
   "metadata": {},
   "outputs": [],
   "source": [
    "Helper to show"
   ]
  },
  {
   "cell_type": "code",
   "execution_count": 4,
   "metadata": {},
   "outputs": [
    {
     "name": "stdout",
     "output_type": "stream",
     "text": [
      "(1, 128, 33, 1)\n",
      "(128, 528)\n"
     ]
    },
    {
     "data": {
      "image/png": "[encoded data removed]",
      "text/plain": [
       "<Figure size 432x288 with 1 Axes>"
      ]
     },
     "metadata": {
      "needs_background": "light"
     },
     "output_type": "display_data"
    }
   ],
   "source": [
    "# test image output\n",
    "import matplotlib.pyplot\n",
    "print(grid_u.shape)\n",
    "\n",
    "session = Session(None)\n",
    "session.initialize_variables()\n",
    "\n",
    "def show_state(a):\n",
    "    global session\n",
    "    a = session.run(a)\n",
    "\n",
    "    # we only have 33 time steps, blow up by a factor of 2^4 to make it easier to see\n",
    "    # (could also be done with more evaluations of network)\n",
    "    for i in range(4):\n",
    "        a = np.concatenate( [a,a] , axis=3)\n",
    "    a = np.reshape( a, [a.shape[1],a.shape[2]*a.shape[3]] )\n",
    "\n",
    "    print(a.shape)\n",
    "    matplotlib.pyplot.imshow(a, origin='lower', cmap='magma')\n",
    "    \n",
    "show_state(grid_u)"
   ]
  },
  {
   "cell_type": "code",
   "execution_count": 49,
   "metadata": {},
   "outputs": [
    {
     "name": "stdout",
     "output_type": "stream",
     "text": [
      "Step 0, loss: 0.218346\n",
      "Step 500, loss: 0.055519\n",
      "Step 1000, loss: 0.047574\n",
      "Step 1500, loss: 0.042237\n",
      "Step 2000, loss: 0.039294\n",
      "Step 2500, loss: 0.037725\n",
      "Step 3000, loss: 0.035842\n",
      "Step 3500, loss: 0.033851\n",
      "Step 4000, loss: 0.032361\n",
      "Step 4500, loss: 0.031215\n",
      "Step 5000, loss: 0.030114\n",
      "Step 5500, loss: 0.029610\n",
      "Step 6000, loss: 0.028632\n",
      "Step 6500, loss: 0.028075\n",
      "Step 7000, loss: 0.027415\n",
      "Step 7500, loss: 0.028114\n",
      "Step 8000, loss: 0.026602\n",
      "Step 8500, loss: 0.026124\n",
      "Step 9000, loss: 0.026635\n",
      "Step 9500, loss: 0.025445\n"
     ]
    }
   ],
   "source": [
    "# Boundary loss\n",
    "num_sample_points_bnd = 100\n",
    "x_bc, t_bc, u_bc = [math.concat([v_t0, v_x], axis=0) for v_t0, v_x in zip(boundary_t0(num_sample_points_bnd), open_boundary(num_sample_points_bnd))]\n",
    "#with app.model_scope():\n",
    "loss_u = math.l2_loss(network(x_bc, t_bc)[:, 0] - u_bc)  # normalizes by first dimension, N_bc\n",
    "\n",
    "# Physics loss inside of domain\n",
    "num_sample_points_inner = 1000\n",
    "x_ph, t_ph = tf.convert_to_tensor(rnd.random_uniform([num_sample_points_inner], -1, 1)), tf.convert_to_tensor(rnd.random_uniform([num_sample_points_inner], 0, 1))\n",
    "loss_ph = math.l2_loss(f(network(x_ph, t_ph)[:, 0], x_ph, t_ph))  # normalizes by first dimension, N_ph\n",
    "\n",
    "# Combine\n",
    "ph_factor = 1.\n",
    "loss = loss_u + ph_factor * loss_ph # allows us to control the influence of loss_ph \n",
    "\n",
    "# TODO, try ADAM?\n",
    "optim = tf.train.GradientDescentOptimizer(learning_rate=0.05).minimize(loss)\n",
    "session.initialize_variables()\n",
    "\n",
    "for optim_step in range(10000):\n",
    "  _, loss_value = session.run([optim, loss])\n",
    "  if optim_step%500==0: \n",
    "        print('Step %d, loss: %f' % (optim_step,loss_value))\n",
    "        #show_state(grid_u)"
   ]
  },
  {
   "cell_type": "code",
   "execution_count": 50,
   "metadata": {},
   "outputs": [
    {
     "name": "stdout",
     "output_type": "stream",
     "text": [
      "(128, 528)\n"
     ]
    },
    {
     "data": {
      "image/png": "[encoded data removed]",
      "text/plain": [
       "<Figure size 432x288 with 1 Axes>"
      ]
     },
     "metadata": {
      "needs_background": "light"
     },
     "output_type": "display_data"
    }
   ],
   "source": [
    "# a = session.run(grid_u)\n",
    "# a = a[0,:,:,0].transpose() # ; print(a.shape)\n",
    "# pylab.imshow(a, origin='lower', cmap='magma')\n",
    "show_state(grid_u)"
   ]
  },
  {
   "cell_type": "markdown",
   "metadata": {},
   "source": [
    "Let's compare solution at $t=0$\n",
    "Actually not that great... max only at 0.5, even with 10k iters (shock gets better though), almost at 0.75 after 100k w more points"
   ]
  },
  {
   "cell_type": "code",
   "execution_count": 62,
   "metadata": {},
   "outputs": [
    {
     "data": {
      "text/plain": [
       "[<matplotlib.lines.Line2D at 0x140fded50>]"
      ]
     },
     "execution_count": 62,
     "metadata": {},
     "output_type": "execute_result"
    },
    {
     "data": {
      "image/png": "[encoded data removed]",
      "text/plain": [
       "<Figure size 432x288 with 1 Axes>"
      ]
     },
     "metadata": {
      "needs_background": "light"
     },
     "output_type": "display_data"
    }
   ],
   "source": [
    "u = session.run(grid_u)\n",
    "u0 = u[0,:,0,0]\n",
    "\n",
    "import matplotlib.pyplot as plt\n",
    "fig = plt.figure().gca()\n",
    "fig.scatter(x_bc[0:100], u_bc[0:100], color='gray')\n",
    "fig.plot(np.linspace(-1,1,len(u0)), u0, lw=2, color='blue')\n",
    "#fig.plot(ini[:,0], ini[:,1], lw=2, color='green')\n"
   ]
  },
  {
   "cell_type": "code",
   "execution_count": 59,
   "metadata": {},
   "outputs": [
    {
     "name": "stdout",
     "output_type": "stream",
     "text": [
      "[[-1.00000000e+00  1.22464680e-16]\n",
      " [-8.66666667e-01  4.06736643e-01]\n",
      " [-7.33333333e-01  7.43144825e-01]\n",
      " [-6.00000000e-01  9.51056516e-01]\n",
      " [-4.66666667e-01  9.94521895e-01]\n",
      " [-3.33333333e-01  8.66025404e-01]\n",
      " [-2.00000000e-01  5.87785252e-01]\n",
      " [-6.66666667e-02  2.07911691e-01]\n",
      " [ 6.66666667e-02 -2.07911691e-01]\n",
      " [ 2.00000000e-01 -5.87785252e-01]\n",
      " [ 3.33333333e-01 -8.66025404e-01]\n",
      " [ 4.66666667e-01 -9.94521895e-01]\n",
      " [ 6.00000000e-01 -9.51056516e-01]\n",
      " [ 7.33333333e-01 -7.43144825e-01]\n",
      " [ 8.66666667e-01 -4.06736643e-01]\n",
      " [ 1.00000000e+00 -1.22464680e-16]]\n"
     ]
    }
   ],
   "source": [
    "#print(x_bc[0:100])\n",
    "#print(u_bc[0:100])\n",
    "\n",
    "# fig = plt.figure().gca()\n",
    "# #fig.plot(range(len(u0)), u0, lw=0.5, color='blue')\n",
    "# fig.scatter(x_bc[0:100], u_bc[0:100], lw=0.1, color='green')\n",
    "\n",
    "# forward test w Burgers\n",
    "#domain = Domain([64, 64], boundaries=PERIODIC, box=box[0:100, 0:100])\n",
    "#world.add(BurgersVelocity(domain, velocity=Noise(channels=domain.rank) * 2), physics=Burgers())\n",
    "\n",
    "ini = np.asarray( [[x, - math.sin(np.pi * x)] for x in np.linspace(-1,1,16)] )\n",
    "print(ini)"
   ]
  }
 ],
 "metadata": {
  "kernelspec": {
   "display_name": "Python 3",
   "language": "python",
   "name": "python3"
  },
  "language_info": {
   "codemirror_mode": {
    "name": "ipython",
    "version": 3
   },
   "file_extension": ".py",
   "mimetype": "text/x-python",
   "name": "python",
   "nbconvert_exporter": "python",
   "pygments_lexer": "ipython3",
   "version": "3.7.6"
  }
 },
 "nbformat": 4,
 "nbformat_minor": 4
}
