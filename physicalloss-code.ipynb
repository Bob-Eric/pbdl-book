{
 "cells": [
  {
   "cell_type": "markdown",
   "metadata": {},
   "source": [
    "# PINN Example \n",
    "\n",
    "Burgers example $u=...$\n",
    "\n",
    "at $t=0$ , sine function (boundary_t0)\n",
    "\n",
    "at sides $t \\in [0,1], u=0$ (open_boundary)\n",
    "\n",
    "## Preliminaries"
   ]
  },
  {
   "cell_type": "code",
   "execution_count": 1,
   "metadata": {},
   "outputs": [
    {
     "name": "stdout",
     "output_type": "stream",
     "text": [
      "Could not load resample cuda libraries: CUDA binaries not found at /Users/thuerey/Dropbox/mbaDevelSelected/phiflow-v1.5/phi/tf/cuda/build/resample.so. Run \"python setup.py cuda\" to compile them\n",
      "WARNING:tensorflow:From /Users/thuerey/Dropbox/mbaDevelSelected/phiflow-v1.5/phi/tf/util.py:119: The name tf.AUTO_REUSE is deprecated. Please use tf.compat.v1.AUTO_REUSE instead.\n",
      "\n",
      "WARNING:tensorflow:From /Users/thuerey/Dropbox/mbaDevelSelected/phiflow-v1.5/phi/tf/profiling.py:12: The name tf.RunOptions is deprecated. Please use tf.compat.v1.RunOptions instead.\n",
      "\n",
      "WARNING:tensorflow:From /Users/thuerey/Dropbox/mbaDevelSelected/phiflow-v1.5/phi/tf/profiling.py:13: The name tf.RunMetadata is deprecated. Please use tf.compat.v1.RunMetadata instead.\n",
      "\n"
     ]
    },
    {
     "name": "stderr",
     "output_type": "stream",
     "text": [
      "/Users/thuerey/Dropbox/mbaDevelSelected/phiflow-v1.5/phi/tf/flow.py:15: UserWarning: TensorFlow-CUDA solver is not available. To compile it, download phiflow sources and run\n",
      "$ python setup.py tf_cuda\n",
      "before reinstalling phiflow.\n",
      "  warnings.warn(\"TensorFlow-CUDA solver is not available. To compile it, download phiflow sources and run\\n$ python setup.py tf_cuda\\nbefore reinstalling phiflow.\")\n"
     ]
    }
   ],
   "source": [
    "from phi.tf.flow import *\n",
    "\n",
    "#rnd = TF_BACKEND  # sample different points in the domain each iteration\n",
    "rnd = math.choose_backend(1)  # use same random points for all iterations"
   ]
  },
  {
   "cell_type": "code",
   "execution_count": 2,
   "metadata": {},
   "outputs": [],
   "source": [
    "def network(x, t):\n",
    "    \"\"\" Dense neural network with 8 hidden layers and 3021 parameters in total.\n",
    "        Parameters will only be allocated once (auto reuse).\n",
    "    \"\"\"\n",
    "    y = math.stack([x, t], axis=-1)\n",
    "    for i in range(8):\n",
    "        y = tf.layers.dense(y, 20, activation=tf.math.tanh, name='layer%d' % i, reuse=tf.AUTO_REUSE)\n",
    "    return tf.layers.dense(y, 1, activation=None, name='layer_out', reuse=tf.AUTO_REUSE)\n",
    "\n",
    "def f(u, x, t):\n",
    "    \"\"\" Physics-based loss function with Burgers equation \"\"\"\n",
    "    u_t = gradients(u, t)\n",
    "    u_x = gradients(u, x)\n",
    "    u_xx = gradients(u_x, x)\n",
    "    return u_t + u*u_x - (0.01 / np.pi) * u_xx\n",
    "\n",
    "def boundary_tx(N):\n",
    "    x = np.linspace(-1,1,128)\n",
    "    # precomputed solution from forward simulation:\n",
    "    u = np.asarray( [0.008612174447657694, 0.02584669669548606, 0.043136357266407785, 0.060491074685516746, 0.07793926183951633, 0.0954779141740818, 0.11311894389663882, 0.1308497114054023, 0.14867023658641343, 0.1665634396808965, 0.18452263429574314, 0.20253084411376132, 0.22057828799835133, 0.23865132431365316, 0.25673879161339097, 0.27483167307082423, 0.2929182325574904, 0.3109944766354339, 0.3290477753208284, 0.34707880794585116, 0.36507311960102307, 0.38303584302507954, 0.40094962955534186, 0.4188235294008765, 0.4366357052408043, 0.45439856841363885, 0.4720845505219581, 0.4897081943759776, 0.5072391070000235, 0.5247011051514834, 0.542067187709797, 0.5593576751669057, 0.5765465453632126, 0.5936507311857876, 0.6106452944663003, 0.6275435911624945, 0.6443221318186165, 0.6609900633731869, 0.67752574922899, 0.6939334022562877, 0.7101938106059631, 0.7263049537163667, 0.7422506131457406, 0.7580207366534812, 0.7736033721649875, 0.7889776974379873, 0.8041371279965555, 0.8190465276590387, 0.8337064887158392, 0.8480617965162781, 0.8621229412131242, 0.8758057344502199, 0.8891341984763013, 0.9019806505391214, 0.9143881632159129, 0.9261597966464793, 0.9373647624856912, 0.9476871303793314, 0.9572273019669029, 0.9654367940878237, 0.9724097482283165, 0.9767381835635638, 0.9669484658390122, 0.659083299684951, -0.659083180712816, -0.9669485121167052, -0.9767382069792288, -0.9724097635533602, -0.9654367970450167, -0.9572273263645859, -0.9476871280825523, -0.9373647681120841, -0.9261598056102645, -0.9143881718456056, -0.9019807055316369, -0.8891341634240081, -0.8758057205293912, -0.8621229450911845, -0.8480618138204272, -0.833706571569058, -0.8190466131476127, -0.8041372124868691, -0.7889777195422356, -0.7736033858767385, -0.758020740007683, -0.7422507481169578, -0.7263049162371344, -0.7101938950789042, -0.6939334061553678, -0.677525822052029, -0.6609901538934517, -0.6443222327338847, -0.6275436932970322, -0.6106454472814152, -0.5936507836778451, -0.5765466491708988, -0.5593578078967361, -0.5420672759411125, -0.5247011730988912, -0.5072391580614087, -0.4897082914472909, -0.47208460952428394, -0.4543985995006753, -0.4366355580500639, -0.41882350871539187, -0.40094955631843376, -0.38303594105786365, -0.36507302109186685, -0.3470786936847069, -0.3290476440540586, -0.31099441589505206, -0.2929180880304103, -0.27483158663081614, -0.2567388003912687, -0.2386513127155433, -0.22057831776499126, -0.20253089403524566, -0.18452269630486776, -0.1665634500729787, -0.14867027528284874, -0.13084990929476334, -0.1131191325854089, -0.09547794429803691, -0.07793928430794522, -0.06049114408297565, -0.0431364527809777, -0.025846763281087953, -0.00861212501518312] );\n",
    "    t = np.asarray(rnd.ones_like(x)) * 0.5\n",
    "    perm = np.random.permutation(128) \n",
    "    return (x[perm])[0:N], (t[perm])[0:N], (u[perm])[0:N]\n",
    "\n",
    "def _ALT_t0(N): # alternative, impose original initial state at t=0\n",
    "    x = rnd.random_uniform([N], -1, 1)\n",
    "    t = rnd.zeros_like(x)\n",
    "    u = - math.sin(np.pi * x)\n",
    "    return x, t, u\n",
    "\n",
    "def open_boundary(N):\n",
    "    t = rnd.random_uniform([N], 0, 1)\n",
    "    x = math.concat([math.zeros([N//2]) + 1, math.zeros([N//2]) - 1], axis=0)\n",
    "    u = math.zeros([N])\n",
    "    return x, t, u\n",
    "\n",
    "# out = boundary_tx(20)\n",
    "# print(len(out[0]))\n",
    "# print(out[0][0:10])\n",
    "# print(out[2][0:10])\n",
    "# a=np.asarray([1,2,3])\n",
    "# perm=np.random.permutation(3)\n",
    "# c=(a[b])[0:2]\n",
    "# print(c)"
   ]
  },
  {
   "cell_type": "markdown",
   "metadata": {},
   "source": [
    "Setup sampling points in inner domain"
   ]
  },
  {
   "cell_type": "code",
   "execution_count": 3,
   "metadata": {},
   "outputs": [
    {
     "name": "stdout",
     "output_type": "stream",
     "text": [
      "WARNING:tensorflow:From <ipython-input-2-a9e33b53329c>:7: dense (from tensorflow.python.layers.core) is deprecated and will be removed in a future version.\n",
      "Instructions for updating:\n",
      "Use keras.layers.Dense instead.\n",
      "WARNING:tensorflow:From /usr/local/lib/python3.7/site-packages/tensorflow_core/python/layers/core.py:187: Layer.apply (from tensorflow.python.keras.engine.base_layer) is deprecated and will be removed in a future version.\n",
      "Instructions for updating:\n",
      "Please use `layer.__call__` method instead.\n"
     ]
    }
   ],
   "source": [
    "# generate array with positions: \n",
    "#   -1 to 1 spatial with 128 cells\n",
    "#   0 to 1 in time with 1+32 timesteps\n",
    "grids_xt = np.meshgrid(np.linspace(-1, 1, 128), np.linspace(0, 1, 33), indexing='ij')\n",
    "grid_x, grid_t = [tf.convert_to_tensor(t, tf.float32) for t in grids_xt]\n",
    "\n",
    "# # gx ,gt = \n",
    "# #[tf.convert_to_tensor(t, tf.float32) \n",
    "# # for t in np.meshgrid( np.linspace(-1, 1, 128), np.linspace(0, 1, 33), indexing='ij')]\n",
    "\n",
    "# for t in np.meshgrid( np.linspace(-1, 1, 128), np.linspace(0, 1, 33), indexing='ij'):\n",
    "#     print(format(t.shape))\n",
    "#     print(format(t))\n",
    "\n",
    "# #tx = np.meshgrid( np.linspace(-1, 1, 128), indexing='ij')\n",
    "# print(format(grid_x))\n",
    "# print(format(grid_x.shape))\n",
    "\n",
    "# create 4D tensor with batch and channel dimensions in addition to space and time\n",
    "# in this case gives shape=(1, 128, 33, 1)\n",
    "grid_u = math.expand_dims(network(grid_x, grid_t))"
   ]
  },
  {
   "cell_type": "markdown",
   "metadata": {},
   "source": [
    "Helper to show"
   ]
  },
  {
   "cell_type": "code",
   "execution_count": 4,
   "metadata": {
    "scrolled": true
   },
   "outputs": [
    {
     "name": "stdout",
     "output_type": "stream",
     "text": [
      "Size of grid_u: (1, 128, 33, 1)\n",
      "WARNING:tensorflow:From /Users/thuerey/Dropbox/mbaDevelSelected/phiflow-v1.5/phi/tf/session.py:17: The name tf.Session is deprecated. Please use tf.compat.v1.Session instead.\n",
      "\n",
      "WARNING:tensorflow:From /Users/thuerey/Dropbox/mbaDevelSelected/phiflow-v1.5/phi/tf/session.py:18: The name tf.get_default_graph is deprecated. Please use tf.compat.v1.get_default_graph instead.\n",
      "\n",
      "WARNING:tensorflow:From /Users/thuerey/Dropbox/mbaDevelSelected/phiflow-v1.5/phi/tf/session.py:28: The name tf.global_variables_initializer is deprecated. Please use tf.compat.v1.global_variables_initializer instead.\n",
      "\n",
      "WARNING:tensorflow:From /Users/thuerey/Dropbox/mbaDevelSelected/phiflow-v1.5/phi/tf/session.py:29: The name tf.train.Saver is deprecated. Please use tf.compat.v1.train.Saver instead.\n",
      "\n",
      "Randomly initialized network state:\n"
     ]
    },
    {
     "data": {
      "image/png": "[encoded data removed]",
      "text/plain": [
       "<Figure size 432x288 with 1 Axes>"
      ]
     },
     "metadata": {
      "needs_background": "light"
     },
     "output_type": "display_data"
    }
   ],
   "source": [
    "# test image output\n",
    "import matplotlib.pyplot as plt\n",
    "print(\"Size of grid_u: \"+format(grid_u.shape))\n",
    "\n",
    "session = Session(None)\n",
    "session.initialize_variables()\n",
    "\n",
    "def show_state(a, run_session=True):\n",
    "    global session\n",
    "    if run_session: a = session.run(a) # special for showing NN results, run through TF \n",
    "\n",
    "    # we only have 33 time steps, blow up by a factor of 2^4 to make it easier to see\n",
    "    # (could also be done with more evaluations of network)\n",
    "    for i in range(4):\n",
    "        a = np.concatenate( [a,a] , axis=3)\n",
    "    a = np.reshape( a, [a.shape[1],a.shape[2]*a.shape[3]] )\n",
    "    #print(a.shape)\n",
    "    plt.imshow(a, origin='lower', cmap='magma')\n",
    "    \n",
    "print(\"Randomly initialized network state:\")\n",
    "show_state(grid_u)"
   ]
  },
  {
   "cell_type": "markdown",
   "metadata": {},
   "source": [
    "## The loss functions & training\n",
    "\n",
    "set up losses...\n",
    "\n",
    "Note: very slow, needs _lots_ of iterations, only 10k for testing by default (`iters`), increase to get better results."
   ]
  },
  {
   "cell_type": "code",
   "execution_count": 5,
   "metadata": {},
   "outputs": [
    {
     "name": "stdout",
     "output_type": "stream",
     "text": [
      "WARNING:tensorflow:From /usr/local/lib/python3.7/site-packages/tensorflow_core/python/ops/math_grad.py:1375: where (from tensorflow.python.ops.array_ops) is deprecated and will be removed in a future version.\n",
      "Instructions for updating:\n",
      "Use tf.where in 2.0, which has the same broadcast rule as np.where\n"
     ]
    }
   ],
   "source": [
    "# Boundary loss\n",
    "num_sample_points_bnd = 100\n",
    "x_bc, t_bc, u_bc = [math.concat([v_t0, v_x], axis=0) for v_t0, v_x in zip(boundary_tx(num_sample_points_bnd), open_boundary(num_sample_points_bnd))]\n",
    "x_bc, t_bc, u_bc = np.asarray(x_bc,dtype=np.float32), np.asarray(t_bc,dtype=np.float32) ,np.asarray(u_bc,dtype=np.float32)\n",
    "#with app.model_scope():\n",
    "loss_u = math.l2_loss(network(x_bc, t_bc)[:, 0] - u_bc)  # normalizes by first dimension, N_bc\n",
    "\n",
    "# Physics loss inside of domain\n",
    "num_sample_points_inner = 1000\n",
    "x_ph, t_ph = tf.convert_to_tensor(rnd.random_uniform([num_sample_points_inner], -1, 1)), tf.convert_to_tensor(rnd.random_uniform([num_sample_points_inner], 0, 1))\n",
    "loss_ph = math.l2_loss(f(network(x_ph, t_ph)[:, 0], x_ph, t_ph))  # normalizes by first dimension, N_ph\n",
    "\n",
    "# Combine\n",
    "ph_factor = 1.\n",
    "loss = loss_u + ph_factor * loss_ph # allows us to control the relative influence of loss_ph \n",
    "\n",
    "optim = tf.train.GradientDescentOptimizer(learning_rate=0.05).minimize(loss)\n",
    "#optim = tf.train.AdamOptimizer(learning_rate=0.001).minimize(loss) # not much benefit here\n"
   ]
  },
  {
   "cell_type": "code",
   "execution_count": 6,
   "metadata": {},
   "outputs": [
    {
     "name": "stdout",
     "output_type": "stream",
     "text": [
      "Step 0, loss: 0.111230\n",
      "Step 50, loss: 0.059567\n",
      "Step 100, loss: 0.050345\n",
      "Step 150, loss: 0.040759\n",
      "Step 200, loss: 0.033108\n",
      "Step 250, loss: 0.027403\n",
      "Step 300, loss: 0.021609\n",
      "Step 350, loss: 0.017801\n",
      "Step 400, loss: 0.013434\n",
      "Step 450, loss: 0.031098\n",
      "Step 500, loss: 0.019279\n",
      "Step 550, loss: 0.015963\n",
      "Step 600, loss: 0.014481\n",
      "Step 650, loss: 0.013526\n",
      "Step 700, loss: 0.012771\n",
      "Step 750, loss: 0.012119\n",
      "Step 800, loss: 0.011504\n",
      "Step 850, loss: 0.010888\n",
      "Step 900, loss: 0.010266\n",
      "Step 950, loss: 0.009654\n",
      "Step 1000, loss: 0.009068\n",
      "Step 1050, loss: 0.008521\n",
      "Step 1100, loss: 0.008014\n",
      "Step 1150, loss: 0.007544\n",
      "Step 1200, loss: 0.007104\n",
      "Step 1250, loss: 0.006684\n",
      "Step 1300, loss: 0.006282\n",
      "Step 1350, loss: 0.005901\n",
      "Step 1400, loss: 0.005545\n",
      "Step 1450, loss: 0.005212\n",
      "Step 1500, loss: 0.004900\n",
      "Step 1550, loss: 0.004604\n",
      "Step 1600, loss: 0.004324\n",
      "Step 1650, loss: 0.004058\n",
      "Step 1700, loss: 0.003808\n",
      "Step 1750, loss: 0.003562\n",
      "Step 1800, loss: 0.003326\n",
      "Step 1850, loss: 0.003089\n",
      "Step 1900, loss: 0.002863\n",
      "Step 1950, loss: 0.002722\n",
      "Step 2000, loss: 0.002980\n",
      "Step 2050, loss: 0.002280\n",
      "Step 2100, loss: 0.071292\n",
      "Step 2150, loss: 0.022765\n",
      "Step 2200, loss: 0.017804\n",
      "Step 2250, loss: 0.013744\n",
      "Step 2300, loss: 0.011416\n",
      "Step 2350, loss: 0.010243\n",
      "Step 2400, loss: 0.009419\n",
      "Step 2450, loss: 0.008764\n",
      "Step 2500, loss: 0.008265\n",
      "Step 2550, loss: 0.007883\n",
      "Step 2600, loss: 0.007578\n",
      "Step 2650, loss: 0.007323\n",
      "Step 2700, loss: 0.007102\n",
      "Step 2750, loss: 0.006902\n",
      "Step 2800, loss: 0.006712\n",
      "Step 2850, loss: 0.006524\n",
      "Step 2900, loss: 0.006349\n",
      "Step 2950, loss: 0.006186\n",
      "Step 3000, loss: 0.006033\n",
      "Step 3050, loss: 0.005888\n",
      "Step 3100, loss: 0.005747\n",
      "Step 3150, loss: 0.005610\n",
      "Step 3200, loss: 0.005475\n",
      "Step 3250, loss: 0.005339\n",
      "Step 3300, loss: 0.005198\n",
      "Step 3350, loss: 0.005044\n",
      "Step 3400, loss: 0.004859\n",
      "Step 3450, loss: 0.004585\n",
      "Step 3500, loss: 0.017968\n",
      "Step 3550, loss: 0.004040\n",
      "Step 3600, loss: 0.002951\n",
      "Step 3650, loss: 0.002693\n",
      "Step 3700, loss: 0.002550\n",
      "Step 3750, loss: 0.002443\n",
      "Step 3800, loss: 0.002351\n",
      "Step 3850, loss: 0.002269\n",
      "Step 3900, loss: 0.002193\n",
      "Step 3950, loss: 0.002122\n",
      "Step 4000, loss: 0.002056\n",
      "Step 4050, loss: 0.001994\n",
      "Step 4100, loss: 0.001934\n",
      "Step 4150, loss: 0.001877\n",
      "Step 4200, loss: 0.001822\n",
      "Step 4250, loss: 0.001768\n",
      "Step 4300, loss: 0.001716\n",
      "Step 4350, loss: 0.001665\n",
      "Step 4400, loss: 0.001615\n",
      "Step 4450, loss: 0.001566\n",
      "Step 4500, loss: 0.001517\n",
      "Step 4550, loss: 0.001470\n",
      "Step 4600, loss: 0.001476\n",
      "Step 4650, loss: 0.001383\n",
      "Step 4700, loss: 0.001337\n",
      "Step 4750, loss: 0.001381\n",
      "Step 4800, loss: 0.001255\n",
      "Step 4850, loss: 0.001212\n",
      "Step 4900, loss: 0.001305\n",
      "Step 4950, loss: 0.001134\n",
      "Step 5000, loss: 0.001114\n",
      "Step 5050, loss: 0.001072\n",
      "Step 5100, loss: 0.001658\n",
      "Step 5150, loss: 0.063174\n",
      "Step 5200, loss: 0.047222\n",
      "Step 5250, loss: 0.043665\n",
      "Step 5300, loss: 0.042181\n",
      "Step 5350, loss: 0.041065\n",
      "Step 5400, loss: 0.040186\n",
      "Step 5450, loss: 0.039448\n",
      "Step 5500, loss: 0.038687\n",
      "Step 5550, loss: 0.037640\n",
      "Step 5600, loss: 0.036418\n",
      "Step 5650, loss: 0.035370\n",
      "Step 5700, loss: 0.034606\n",
      "Step 5750, loss: 0.034045\n",
      "Step 5800, loss: 0.167828\n",
      "Step 5850, loss: 0.099039\n",
      "Step 5900, loss: 0.095293\n",
      "Step 5950, loss: 0.090091\n",
      "Step 6000, loss: 0.083824\n",
      "Step 6050, loss: 0.072519\n",
      "Step 6100, loss: 0.056544\n",
      "Step 6150, loss: 0.051577\n",
      "Step 6200, loss: 0.048992\n",
      "Step 6250, loss: 0.046800\n",
      "Step 6300, loss: 0.044814\n",
      "Step 6350, loss: 0.042973\n",
      "Step 6400, loss: 0.041381\n",
      "Step 6450, loss: 0.040075\n",
      "Step 6500, loss: 0.038997\n",
      "Step 6550, loss: 0.038067\n",
      "Step 6600, loss: 0.037238\n",
      "Step 6650, loss: 0.036487\n",
      "Step 6700, loss: 0.035804\n",
      "Step 6750, loss: 0.035185\n",
      "Step 6800, loss: 0.034636\n",
      "Step 6850, loss: 0.034157\n",
      "Step 6900, loss: 0.033735\n",
      "Step 6950, loss: 0.033001\n",
      "Step 7000, loss: 0.031376\n",
      "Step 7050, loss: 0.029146\n",
      "Step 7100, loss: 0.026367\n",
      "Step 7150, loss: 0.023316\n",
      "Step 7200, loss: 0.020324\n",
      "Step 7250, loss: 0.017877\n",
      "Step 7300, loss: 0.015863\n",
      "Step 7350, loss: 0.014097\n",
      "Step 7400, loss: 0.012570\n",
      "Step 7450, loss: 0.012832\n",
      "Step 7500, loss: 0.010255\n",
      "Step 7550, loss: 0.009250\n",
      "Step 7600, loss: 0.027104\n",
      "Step 7650, loss: 0.008814\n",
      "Step 7700, loss: 0.007840\n",
      "Step 7750, loss: 0.007265\n",
      "Step 7800, loss: 0.006804\n",
      "Step 7850, loss: 0.006415\n",
      "Step 7900, loss: 0.006079\n",
      "Step 7950, loss: 0.005783\n",
      "Step 8000, loss: 0.005516\n",
      "Step 8050, loss: 0.005274\n",
      "Step 8100, loss: 0.005057\n",
      "Step 8150, loss: 0.004895\n",
      "Step 8200, loss: 0.004679\n",
      "Step 8250, loss: 0.004554\n",
      "Step 8300, loss: 0.007953\n",
      "Step 8350, loss: 0.026119\n",
      "Step 8400, loss: 0.018625\n",
      "Step 8450, loss: 0.012710\n",
      "Step 8500, loss: 0.007646\n",
      "Step 8550, loss: 0.003899\n",
      "Step 8600, loss: 0.005047\n",
      "Step 8650, loss: 0.002152\n",
      "Step 8700, loss: 0.002009\n",
      "Step 8750, loss: 0.001450\n",
      "Step 8800, loss: 0.001367\n",
      "Step 8850, loss: 0.001321\n",
      "Step 8900, loss: 0.001109\n",
      "Step 8950, loss: 0.001148\n",
      "Step 9000, loss: 0.000987\n",
      "Step 9050, loss: 0.000899\n",
      "Step 9100, loss: 0.000856\n",
      "Step 9150, loss: 0.000848\n",
      "Step 9200, loss: 0.000861\n",
      "Step 9250, loss: 0.000908\n",
      "Step 9300, loss: 0.000710\n",
      "Step 9350, loss: 0.000693\n",
      "Step 9400, loss: 0.000713\n",
      "Step 9450, loss: 0.000753\n",
      "Step 9500, loss: 0.000672\n",
      "Step 9550, loss: 0.000668\n",
      "Step 9600, loss: 0.000709\n",
      "Step 9650, loss: 0.000541\n",
      "Step 9700, loss: 0.000864\n",
      "Step 9750, loss: 0.000872\n",
      "Step 9800, loss: 0.000668\n",
      "Step 9850, loss: 0.001222\n",
      "Step 9900, loss: 0.000966\n",
      "Step 9950, loss: 0.000658\n",
      "Step 10000, loss: 0.000867\n",
      "Runtime 106.27s\n"
     ]
    }
   ],
   "source": [
    "session.initialize_variables()\n",
    "\n",
    "import time\n",
    "start = time.time()\n",
    "\n",
    "iters = 10000\n",
    "for optim_step in range(iters+1):\n",
    "  _, loss_value = session.run([optim, loss])\n",
    "  if optim_step%500==0: \n",
    "        print('Step %d, loss: %f' % (optim_step,loss_value))\n",
    "        #show_state(grid_u)\n",
    "        \n",
    "end = time.time()\n",
    "print(\"Runtime {:.2f}s\".format(end-start))"
   ]
  },
  {
   "cell_type": "markdown",
   "metadata": {},
   "source": [
    "Looks pretty good on first sight!"
   ]
  },
  {
   "cell_type": "code",
   "execution_count": 7,
   "metadata": {},
   "outputs": [
    {
     "data": {
      "image/png": "[encoded data removed]",
      "text/plain": [
       "<Figure size 432x288 with 1 Axes>"
      ]
     },
     "metadata": {
      "needs_background": "light"
     },
     "output_type": "display_data"
    }
   ],
   "source": [
    "# a = session.run(grid_u)\n",
    "# a = a[0,:,:,0].transpose() # ; print(a.shape)\n",
    "# pylab.imshow(a, origin='lower', cmap='magma')\n",
    "show_state(grid_u)"
   ]
  },
  {
   "cell_type": "markdown",
   "metadata": {},
   "source": [
    "---\n",
    "\n",
    "## Evaluation\n",
    "\n",
    "Let's compare solution at $t=0$\n",
    "Actually not that great, blue curve from PINN quite far away from constraits (in gray)... Solution get's better with larger number of iterations, but requires a surprisingly large number of them for a fairly simple case. The shock in the middle is not well recovered (the maximum is still much too low).\n"
   ]
  },
  {
   "cell_type": "code",
   "execution_count": 8,
   "metadata": {},
   "outputs": [
    {
     "data": {
      "text/plain": [
       "<matplotlib.collections.PathCollection at 0x13ab749d0>"
      ]
     },
     "execution_count": 8,
     "metadata": {},
     "output_type": "execute_result"
    },
    {
     "data": {
      "image/png": "[encoded data removed]",
      "text/plain": [
       "<Figure size 432x288 with 1 Axes>"
      ]
     },
     "metadata": {
      "needs_background": "light"
     },
     "output_type": "display_data"
    }
   ],
   "source": [
    "u = session.run(grid_u)\n",
    "#[u,gx,gt] = session.run([grid_u,grid_x,grid_t]) # print(gt[0:5,17]) # check time...\n",
    "# solution is imposed at t=1/2 , which is 16 in the array\n",
    "bc_tx = 16 \n",
    "uT = u[0,:,bc_tx,0]\n",
    "\n",
    "fig = plt.figure().gca()\n",
    "fig.plot(np.linspace(-1,1,len(uT)), uT, lw=2, color='blue')\n",
    "fig.scatter(x_bc[0:100], u_bc[0:100], color='gray')\n"
   ]
  },
  {
   "cell_type": "markdown",
   "metadata": {},
   "source": [
    "Let's check how well the initial state was reconstructed, compared ot the (known) ground truth solution."
   ]
  },
  {
   "cell_type": "code",
   "execution_count": 9,
   "metadata": {},
   "outputs": [
    {
     "data": {
      "text/plain": [
       "[<matplotlib.lines.Line2D at 0x13ac00110>]"
      ]
     },
     "execution_count": 9,
     "metadata": {},
     "output_type": "execute_result"
    },
    {
     "data": {
      "image/png": "[encoded data removed]",
      "text/plain": [
       "<Figure size 432x288 with 1 Axes>"
      ]
     },
     "metadata": {
      "needs_background": "light"
     },
     "output_type": "display_data"
    }
   ],
   "source": [
    "n = 128\n",
    "\n",
    "# ground truth solution at t0\n",
    "t0gt = np.asarray( [ [-math.sin(np.pi * x) * 1.] for x in np.linspace(-1,1,n)] )\n",
    "\n",
    "velP0 = u[0,:,0,0]\n",
    "\n",
    "fig = plt.figure().gca()\n",
    "fig.plot(np.linspace(-1,1,len(velP0)), velP0, lw=2, color='blue')\n",
    "fig.plot(np.linspace(-1,1,len(t0gt)), t0gt, lw=2, color='gray') # optionally show GT, compare to blue\n"
   ]
  },
  {
   "cell_type": "markdown",
   "metadata": {},
   "source": [
    "That's not very close...\n",
    "\n",
    "But we have the forward simulator, so we can use the $t=0$ solution of the network to \n",
    "evaluate how well the temporal evoluation was reconstructed by the PINN."
   ]
  },
  {
   "cell_type": "code",
   "execution_count": 10,
   "metadata": {},
   "outputs": [
    {
     "name": "stdout",
     "output_type": "stream",
     "text": [
      "(1, 128, 1)\n"
     ]
    },
    {
     "data": {
      "text/plain": [
       "[<matplotlib.lines.Line2D at 0x13ac91710>]"
      ]
     },
     "execution_count": 10,
     "metadata": {},
     "output_type": "execute_result"
    },
    {
     "data": {
      "image/png": "[encoded data removed]",
      "text/plain": [
       "<Figure size 432x288 with 1 Axes>"
      ]
     },
     "metadata": {
      "needs_background": "light"
     },
     "output_type": "display_data"
    }
   ],
   "source": [
    "# re-run with phiflow from solution at t=0\n",
    "dt = 1./32.\n",
    "steps = 32-bc_tx # depends on where BCs were imposed\n",
    "initial = u[...,bc_tx:(bc_tx+1),0] # np.reshape(u0, [1,len(u0),1]) \n",
    "print(initial.shape)\n",
    "\n",
    "domain = Domain([n], boundaries=PERIODIC, box=box[-1:1])\n",
    "state = [BurgersVelocity(domain, velocity=initial, viscosity=0.01/np.pi)]\n",
    "physics = Burgers()\n",
    "\n",
    "for i in range(steps):\n",
    "    state.append( physics.step(state[-1],dt=dt) )\n",
    "\n",
    "# we only need \"velocity.data\" from each phiflow state\n",
    "vels = [x.velocity.data for x in state]\n",
    "\n",
    "fig = plt.figure().gca()\n",
    "pltx = np.linspace(-1,1,len(vels[0].flatten()))\n",
    "fig.plot(pltx, vels[ 0].flatten(), lw=2, color='blue')\n",
    "#fig.plot(pltx, vels[steps//4].flatten(), lw=2, color='green')\n",
    "fig.plot(pltx, vels[steps//2].flatten(), lw=2, color='cyan')\n",
    "fig.plot(pltx, vels[steps-1].flatten(), lw=2, color='purple')\n",
    "#fig.plot(pltx, t0gt, lw=2, color='gray') # optionally show GT, compare to blue\n"
   ]
  },
  {
   "cell_type": "markdown",
   "metadata": {},
   "source": [
    "Versus the PINN output:\n"
   ]
  },
  {
   "cell_type": "code",
   "execution_count": 11,
   "metadata": {},
   "outputs": [
    {
     "name": "stdout",
     "output_type": "stream",
     "text": [
      "(128,)\n"
     ]
    },
    {
     "data": {
      "text/plain": [
       "[<matplotlib.lines.Line2D at 0x13ad0b910>]"
      ]
     },
     "execution_count": 11,
     "metadata": {},
     "output_type": "execute_result"
    },
    {
     "data": {
      "image/png": "[encoded data removed]",
      "text/plain": [
       "<Figure size 432x288 with 1 Axes>"
      ]
     },
     "metadata": {
      "needs_background": "light"
     },
     "output_type": "display_data"
    }
   ],
   "source": [
    "velP = [u[0,:,x,0] for x in range(33)]\n",
    "print(velP[0].shape)\n",
    "\n",
    "fig = plt.figure().gca()\n",
    "fig.plot(pltx, velP[bc_tx+ 0].flatten(), lw=2, color='blue')\n",
    "#fig.plot(pltx, velP[bc_tx+steps//4].flatten(), lw=2, color='green')\n",
    "fig.plot(pltx, velP[bc_tx+steps//2].flatten(), lw=2, color='cyan')\n",
    "fig.plot(pltx, velP[bc_tx+steps-1].flatten(), lw=2, color='purple')\n"
   ]
  },
  {
   "cell_type": "markdown",
   "metadata": {},
   "source": [
    "And the error in the PINN reconstruction. Not surprisingly grows over time. \n",
    "\n",
    "The shock is not \"undone\" well towards $t=0$.\n",
    "\n",
    "(Old: BC at 0, the last state at $t=1$ in purple doesnt capture the sharp shock very well.)"
   ]
  },
  {
   "cell_type": "code",
   "execution_count": 12,
   "metadata": {},
   "outputs": [
    {
     "data": {
      "text/plain": [
       "[<matplotlib.lines.Line2D at 0x13ad82d10>]"
      ]
     },
     "execution_count": 12,
     "metadata": {},
     "output_type": "execute_result"
    },
    {
     "data": {
      "image/png": "[encoded data removed]",
      "text/plain": [
       "<Figure size 432x288 with 1 Axes>"
      ]
     },
     "metadata": {
      "needs_background": "light"
     },
     "output_type": "display_data"
    }
   ],
   "source": [
    "fig = plt.figure().gca()\n",
    "fig.plot(pltx, (vels[0       ].flatten()-velP[bc_tx         ].flatten()), lw=2, color='blue')\n",
    "#fig.plot(pltx, (vels[steps//4].flatten()-velP[bc_tx+steps//4].flatten()), lw=2, color='green')\n",
    "fig.plot(pltx, (vels[steps//2].flatten()-velP[bc_tx+steps//2].flatten()), lw=2, color='cyan')\n",
    "fig.plot(pltx, (vels[steps-1 ].flatten()-velP[bc_tx+steps-1 ].flatten()), lw=2, color='purple')"
   ]
  },
  {
   "cell_type": "markdown",
   "metadata": {},
   "source": [
    "All steps over time, with a color map... (note x axis does not show actual simulation time)"
   ]
  },
  {
   "cell_type": "code",
   "execution_count": 13,
   "metadata": {},
   "outputs": [
    {
     "data": {
      "image/png": "[encoded data removed]",
      "text/plain": [
       "<Figure size 432x288 with 1 Axes>"
      ]
     },
     "metadata": {
      "needs_background": "light"
     },
     "output_type": "display_data"
    }
   ],
   "source": [
    "# show solution again as full image over time\n",
    "sn = np.concatenate(vels, axis=-1)\n",
    "sn = np.reshape(sn, list(sn.shape)+[1] ) # print(sn.shape)\n",
    "\n",
    "show_state(sn, run_session=False)"
   ]
  }
 ],
 "metadata": {
  "kernelspec": {
   "display_name": "Python 3",
   "language": "python",
   "name": "python3"
  },
  "language_info": {
   "codemirror_mode": {
    "name": "ipython",
    "version": 3
   },
   "file_extension": ".py",
   "mimetype": "text/x-python",
   "name": "python",
   "nbconvert_exporter": "python",
   "pygments_lexer": "ipython3",
   "version": "3.7.6"
  }
 },
 "nbformat": 4,
 "nbformat_minor": 4
}
