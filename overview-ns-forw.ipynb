{
 "cells": [
  {
   "cell_type": "markdown",
   "metadata": {
    "id": "o4JZ84moBKMr"
   },
   "source": [
    "# Navier-Stokes Forward Simulation\n",
    "\n",
    "Now let's target a somewhat more complex example: a fluid simulations based on the Navier-Stokes equations. This is still very simple with Φ<sub>Flow</sub>, as differentiable operators for all steps exist. The Navier-Stokes equations (in their incompressible form) introduce an additional pressure field $p$, and a constraint for conservation of mass, as introduced in equation {eq}`model-boussinesq2d`. We're also moving a marker field, denoted by $d$ here, with the flow. It indicates regions of higher temperature, and excerts a force via with a bouyancy factor $\\xi$:\n",
    "\n",
    "$$\\begin{aligned}\n",
    "    \\frac{\\partial \\mathbf{u}}{\\partial{t}} + \\mathbf{u} \\cdot \\nabla \\mathbf{u} &= - \\frac{\\Delta t}{\\rho} \\nabla p + \\nu \\nabla\\cdot \\nabla \\mathbf{u} + (0,1)^T \\xi d\n",
    "  \\quad \\text{s.t.} \\quad \\nabla \\cdot \\mathbf{u} = 0,\n",
    "  \\\\\n",
    "  \\frac{\\partial d}{\\partial{t}} + \\mathbf{u} \\cdot \\nabla d &= 0 \n",
    "\\end{aligned}$$\n",
    "\n",
    "\n",
    "Here $\\mathbf{g}$ collects the forcing terms. Below we'll use a simple buoyancy model. We'll solve this PDE on a closed domain with Dirchlet boundary conditions $\\mathbf{u}=0$ for the velocity, and Neumann boundaries $\\frac{\\partial p}{\\partial x}=0$ for pressure, on a domain $\\Omega$ with a physical size of $100 \\times 80$ units. \n",
    "[[run in colab]](https://colab.research.google.com/github/tum-pbs/pbdl-book/blob/main/overview-ns-forw.ipynb)\n",
    "\n"
   ]
  },
  {
   "cell_type": "markdown",
   "metadata": {},
   "source": [
    "## Implementation\n",
    "\n",
    "As in the previous section, the first command with a \"!\" prefix installs the [Φ<sub>Flow</sub> Python package from GitHub](https://github.com/tum-pbs/PhiFlow) via `pip` in your python environment. (Skip or modify this command if necessary.)"
   ]
  },
  {
   "cell_type": "code",
   "execution_count": 1,
   "metadata": {
    "colab": {
     "base_uri": "https://localhost:8080/"
    },
    "id": "da1uZcDXdVcF",
    "outputId": "1082dc87-796c-4b57-e72e-5790fc1444c9"
   },
   "outputs": [],
   "source": [
    "#!pip install --upgrade --quiet git+https://github.com/tum-pbs/PhiFlow@develop\n",
    "#!pip install --upgrade --quiet phiflow \n",
    "from phi.flow import *  # The Dash GUI is not supported on Google Colab, ignore the warning\n",
    "import pylab"
   ]
  },
  {
   "cell_type": "markdown",
   "metadata": {
    "id": "BVV1IKVqDfLl"
   },
   "source": [
    "## Setting up the simulation\n",
    "\n",
    "The following code sets up a simulation domain with the physical size, an inflow object to emit a smoke density, and three field: a staggerend `velocity` grid, and two centered grids for the smoke density and a pressure field. We'll use $40\\times32$ cells to discretize our domain, introduce a slight viscosity via $\\nu$, and define the time step to be $\\Delta t=1.5$. \n",
    "(As the following variables are constants, they have upper case names.)"
   ]
  },
  {
   "cell_type": "code",
   "execution_count": 2,
   "metadata": {
    "id": "WrA3IXDxv31P"
   },
   "outputs": [],
   "source": [
    "DOMAIN = Domain(x=40, y=32, boundaries=CLOSED, bounds=Box[0:100, 0:80])\n",
    "INFLOW = DOMAIN.grid(Sphere(center=(30, 15), radius=10)) * 0.2\n",
    "\n",
    "DT = 1.5\n",
    "NU = 0.01"
   ]
  },
  {
   "cell_type": "markdown",
   "metadata": {
    "id": "ExA0Pi2sFVka"
   },
   "source": [
    "The inflow will be used to inject smoke into the `smoke` grid to represent the marker field $d$ from above. Note that we've defined a `Box` of size $100x80$ above. This is the physical scale in terms of spatial units in our simulation, i.e., a velocity of magnitude $1$ will move the smoke density by 1 unit per 1 time unit, which may be larger or smaller than a cell in the discretized grid, depending on the settings for `x,y`. You could parametrize your simulation grid to directly resemble real-world units, or keep conversion factors in mind for conversion. \n",
    "\n",
    "The inflow sphere above is already using the \"world\" coordinates: it is located at $x=30$ along the first axis, and $y=15$ (within the $100x80$ domain box).\n",
    "\n",
    "Next, we create grids for the quantities we want to simulate. For this example, we require a velocity field and a smoke density field.\n",
    "We sample the smoke field at the cell centers and the velocity in [staggered form](https://tum-pbs.github.io/PhiFlow/Staggered_Grids.html)."
   ]
  },
  {
   "cell_type": "code",
   "execution_count": 3,
   "metadata": {},
   "outputs": [],
   "source": [
    "smoke = DOMAIN.scalar_grid(0)  # sampled at cell centers\n",
    "velocity = DOMAIN.staggered_grid(0)  # sampled in staggered form at face centers "
   ]
  },
  {
   "cell_type": "markdown",
   "metadata": {},
   "source": [
    "Let's define the update step, and plot the marker density after one simulation frame."
   ]
  },
  {
   "cell_type": "code",
   "execution_count": 4,
   "metadata": {
    "colab": {
     "base_uri": "https://localhost:8080/",
     "height": 282
    },
    "id": "WmGZdOwswOva",
    "outputId": "3ae4d68d-b586-4bbe-eca9-a223d7720949"
   },
   "outputs": [
    {
     "name": "stdout",
     "output_type": "stream",
     "text": [
      "Max. velocity and mean density: [0.135354, 0.007865495]\n"
     ]
    },
    {
     "data": {
      "text/plain": [
       "<matplotlib.image.AxesImage at 0x7fa14cffd5b0>"
      ]
     },
     "execution_count": 4,
     "metadata": {},
     "output_type": "execute_result"
    },
    {
     "data": {
      "image/png": "[encoded data removed]",
      "text/plain": [
       "<Figure size 432x288 with 1 Axes>"
      ]
     },
     "metadata": {
      "needs_background": "light"
     },
     "output_type": "display_data"
    }
   ],
   "source": [
    "def step(velocity, smoke, pressure, dt=1.0, buoyancy_factor=1.0):\n",
    "    smoke = advect.semi_lagrangian(smoke, velocity, dt) + INFLOW\n",
    "    buoyancy_force = smoke * (0, buoyancy_factor) >> velocity  # resamples smoke to velocity sample points\n",
    "    velocity = advect.semi_lagrangian(velocity, velocity, 1) + dt * buoyancy_force\n",
    "    velocity = diffuse.explicit(velocity, NU, dt)\n",
    "    velocity, pressure, iterations, divergence = fluid.make_incompressible(velocity, DOMAIN, pressure_guess=pressure)\n",
    "    return velocity, smoke, pressure\n",
    "\n",
    "velocity, smoke, pressure = step(velocity, smoke, None, dt=DT)\n",
    "\n",
    "print(\"Max. velocity and mean density: \" + format( [ math.max(velocity.values) , math.mean(smoke.values) ] ))\n",
    "\n",
    "pylab.imshow(np.asarray(smoke.values.numpy('y,x')), origin='lower', cmap='magma')"
   ]
  },
  {
   "cell_type": "markdown",
   "metadata": {},
   "source": [
    "A lot has happened in this `step()` call: we've advected the smoke field, added an upwards force via a Boussinesq model, advected the velocity field, and finally made it divergence free via a pressure solve.\n",
    "\n",
    "The Boussinesq model uses a multiplication by a tuple `(0, buoyancy_factor)` to turn the smoke field into a 2 component force field, sampled at the staggered velocity components via the `>>` operator. \n",
    "\n",
    "The pressure projection step in `make_incompressible` is typically the computationally most expensive step in the sequence above. It solves a Poisson equation for the boundary conditions of the domain, and updates the velocity field with the gradient of the computed pressure.\n",
    "\n",
    "Just for testing, we've also printed the mean value of the velocities, and the max density after the update. As you can see in the resulting image, we have a first round region of smoke, with a slight upwards motion (which does not show here yet). \n",
    "\n",
    "## Datatypes and dimensions\n",
    "\n",
    "The created grids are instances of the class `Grid`.\n",
    "Like tensors, grids also have the `shape` attribute which lists all batch, spatial and channel dimensions.\n",
    "[Shapes in Φ<sub>Flow</sub>](https://tum-pbs.github.io/PhiFlow/Math.html#shapes) store not only the sizes of the dimensions but also their names and types."
   ]
  },
  {
   "cell_type": "code",
   "execution_count": 5,
   "metadata": {},
   "outputs": [
    {
     "name": "stdout",
     "output_type": "stream",
     "text": [
      "Smoke: (x=40, y=32)\n",
      "Velocity: (x=40, y=32, vector=2)\n",
      "Inflow: (x=40, y=32)\n",
      "Inflow, spatial only: (x=40, y=32)\n"
     ]
    }
   ],
   "source": [
    "print(f\"Smoke: {smoke.shape}\")\n",
    "print(f\"Velocity: {velocity.shape}\")\n",
    "print(f\"Inflow: {INFLOW.shape}\")\n",
    "print(f\"Inflow, spatial only: {INFLOW.shape.spatial}\")\n",
    "\n"
   ]
  },
  {
   "cell_type": "markdown",
   "metadata": {},
   "source": [
    "The grid values can be accessed using the `values` property."
   ]
  },
  {
   "cell_type": "code",
   "execution_count": 6,
   "metadata": {},
   "outputs": [
    {
     "name": "stdout",
     "output_type": "stream",
     "text": [
      "(x=40, y=32) float32  0.0 < ... < 0.2\n",
      "(x=(41, 40) along vector, y=(32, 33) along vector, vector=2) float32  -0.10927753 < ... < 0.135354\n",
      "(x=40, y=32) float32  0.0 < ... < 0.2\n"
     ]
    }
   ],
   "source": [
    "print(smoke.values)\n",
    "print(velocity.values)\n",
    "print(INFLOW.values)"
   ]
  },
  {
   "cell_type": "markdown",
   "metadata": {},
   "source": [
    "Grids have many more properties which are documented [here](https://tum-pbs.github.io/PhiFlow/phi/field/#phi.field.Grid).\n",
    "Also note that the staggered grid has a [non-uniform shape](https://tum-pbs.github.io/PhiFlow/Math.html#non-uniform-tensors) because the number of faces is not equal to the number of cells. The `INFLOW` grid naturally has the same dimensions as the `smoke` grid.\n",
    "\n"
   ]
  },
  {
   "cell_type": "markdown",
   "metadata": {},
   "source": [
    "## Time evolution\n",
    "\n",
    "With this setup, we can easily advance the simulation forward in time a bit more by repeatedly calling the `step` function."
   ]
  },
  {
   "cell_type": "code",
   "execution_count": 7,
   "metadata": {
    "colab": {
     "base_uri": "https://localhost:8080/"
    },
    "id": "0hZk5HX3w4Or",
    "outputId": "f7811af7-4b58-4ff6-a8b6-6e7bedefaa6e"
   },
   "outputs": [
    {
     "name": "stdout",
     "output_type": "stream",
     "text": [
      "Computed frame 0, max velocity 0.40485728\n",
      "Computed frame 1, max velocity 0.80262446\n",
      "Computed frame 2, max velocity 1.3215623\n",
      "Computed frame 3, max velocity 1.99783\n",
      "Computed frame 4, max velocity 2.8307805\n",
      "Computed frame 5, max velocity 3.756278\n",
      "Computed frame 6, max velocity 4.5489845\n",
      "Computed frame 7, max velocity 5.147038\n",
      "Computed frame 8, max velocity 5.5985193\n",
      "Computed frame 9, max velocity 6.0121617\n"
     ]
    }
   ],
   "source": [
    "for time_step in range(10):\n",
    "    velocity, smoke, pressure = step(velocity, smoke, pressure, dt=DT)\n",
    "    print('Computed frame {}, max velocity {}'.format(time_step , np.asarray(math.max(velocity.values)) ))\n"
   ]
  },
  {
   "cell_type": "markdown",
   "metadata": {
    "id": "GMKKWQBLHIwP"
   },
   "source": [
    "Now the hot plume is starting to rise:"
   ]
  },
  {
   "cell_type": "code",
   "execution_count": 8,
   "metadata": {
    "colab": {
     "base_uri": "https://localhost:8080/",
     "height": 282
    },
    "id": "Mfl80CjZxZcL",
    "outputId": "92f3a9ba-d403-4799-a543-132ee8ed234c"
   },
   "outputs": [
    {
     "data": {
      "text/plain": [
       "<matplotlib.image.AxesImage at 0x7fa148246700>"
      ]
     },
     "execution_count": 8,
     "metadata": {},
     "output_type": "execute_result"
    },
    {
     "data": {
      "image/png": "[encoded data removed]",
      "text/plain": [
       "<Figure size 432x288 with 1 Axes>"
      ]
     },
     "metadata": {
      "needs_background": "light"
     },
     "output_type": "display_data"
    }
   ],
   "source": [
    "pylab.imshow(smoke.values.numpy('y,x'), origin='lower', cmap='magma')"
   ]
  },
  {
   "cell_type": "markdown",
   "metadata": {
    "id": "wnbQJvA-HPSL"
   },
   "source": [
    "Let's compute and show a few more steps of the simulation. Because of the inflow being located off-center to the left (with x position 30), the plume will curve towards the right when it hits the top wall of the domain."
   ]
  },
  {
   "cell_type": "code",
   "execution_count": 9,
   "metadata": {
    "colab": {
     "base_uri": "https://localhost:8080/",
     "height": 489
    },
    "id": "tkhCOzc0ITsj",
    "outputId": "f6366c12-1eb5-4ff6-e0d7-94b806bfd8e4"
   },
   "outputs": [
    {
     "name": "stdout",
     "output_type": "stream",
     "text": [
      "Computing time step 0\n",
      "Computing time step 1\n",
      "Computing time step 2\n",
      "Computing time step 10\n"
     ]
    },
    {
     "data": {
      "image/png": "[encoded data removed]",
      "text/plain": [
       "<Figure size 1152x360 with 5 Axes>"
      ]
     },
     "metadata": {
      "needs_background": "light"
     },
     "output_type": "display_data"
    }
   ],
   "source": [
    "steps = [[ smoke.values, velocity.values.vector[0], velocity.values.vector[1] ]]\n",
    "for time_step in range(20):\n",
    "  if time_step<3 or time_step%10==0: \n",
    "    print('Computing time step %d' % time_step)\n",
    "  velocity, smoke, pressure = step(velocity, smoke, pressure, dt=DT)\n",
    "  if time_step%5==0:\n",
    "    steps.append( [smoke.values, velocity.values.vector[0], velocity.values.vector[1]] )\n",
    "\n",
    "fig, axes = pylab.subplots(1, len(steps), figsize=(16, 5))\n",
    "for i in range(len(steps)):\n",
    "    axes[i].imshow(steps[i][0].numpy('y,x'), origin='lower', cmap='magma')\n",
    "    axes[i].set_title(f\"d at t={i*5}\")"
   ]
  },
  {
   "cell_type": "markdown",
   "metadata": {},
   "source": [
    "We can also take a look at the velocities. The `steps` list above already stores `vector[0]` and `vector[1]` components of the velocities as numpy arrays, which we can show next."
   ]
  },
  {
   "cell_type": "code",
   "execution_count": 10,
   "metadata": {},
   "outputs": [
    {
     "data": {
      "image/png": "[encoded data removed]",
      "text/plain": [
       "<Figure size 1152x360 with 5 Axes>"
      ]
     },
     "metadata": {
      "needs_background": "light"
     },
     "output_type": "display_data"
    },
    {
     "data": {
      "image/png": "[encoded data removed]",
      "text/plain": [
       "<Figure size 1152x360 with 5 Axes>"
      ]
     },
     "metadata": {
      "needs_background": "light"
     },
     "output_type": "display_data"
    }
   ],
   "source": [
    "fig, axes = pylab.subplots(1, len(steps), figsize=(16, 5))\n",
    "for i in range(len(steps)):\n",
    "    axes[i].imshow(steps[i][1].numpy('y,x'), origin='lower', cmap='magma')\n",
    "    axes[i].set_title(f\"u_x at t={i*5}\")\n",
    "    \n",
    "fig, axes = pylab.subplots(1, len(steps), figsize=(16, 5))\n",
    "for i in range(len(steps)):\n",
    "    axes[i].imshow(steps[i][2].numpy('y,x'), origin='lower', cmap='magma')\n",
    "    axes[i].set_title(f\"u_y at t={i*5}\")\n",
    "    "
   ]
  },
  {
   "cell_type": "markdown",
   "metadata": {
    "id": "ooqVxCPM8PXl"
   },
   "source": [
    "It looks simple here, but this simulation setup is a powerful tool. The simulation could easily be extended to more complex cases or 3D, and it is already fully compatible with back-propagation pipelines of deep learning frameworks. \n",
    "\n",
    "In the next chapters we'll show how to use these simulations for training NNs, and how to steer and modify them via trained NNs. This will illustrate how much we can improve the training process by having a solver in the loop, especially when the solver is _differentiable_. Before moving to these more complex training processes, we will cover a simpler supervised approach in the next chapter. This is very fundamental: even when aiming for advanced physics-based learning setups, a working supervised training is always the first step."
   ]
  }
 ],
 "metadata": {
  "colab": {
   "collapsed_sections": [],
   "name": "Forw Simulations with Φ-Flow.ipynb",
   "provenance": []
  },
  "kernelspec": {
   "display_name": "Python 3",
   "language": "python",
   "name": "python3"
  },
  "language_info": {
   "codemirror_mode": {
    "name": "ipython",
    "version": 3
   },
   "file_extension": ".py",
   "mimetype": "text/x-python",
   "name": "python",
   "nbconvert_exporter": "python",
   "pygments_lexer": "ipython3",
   "version": "3.8.5"
  }
 },
 "nbformat": 4,
 "nbformat_minor": 1
}
