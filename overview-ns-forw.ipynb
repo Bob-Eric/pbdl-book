{
  "nbformat": 4,
  "nbformat_minor": 0,
  "metadata": {
    "colab": {
      "name": "Forw Simulations with Φ-Flow.ipynb",
      "provenance": [],
      "collapsed_sections": []
    },
    "kernelspec": {
      "name": "python3",
      "display_name": "Python 3"
    }
  },
  "cells": [
    {
      "cell_type": "markdown",
      "metadata": {
        "id": "o4JZ84moBKMr"
      },
      "source": [
        "# Navier-Stokes Forward Simulation with Φ<sub>Flow</sub>\n",
        "\n",
        "... now a more complex example with fluid simulations (Navier-Stokes) ... still very simple with phiflow (complexity of the differentiable operators hidden).\n",
        "\n",
        "Only for colab: \n",
        "Execute the cell below to install the [Φ<sub>Flow</sub> Python package from GitHub](https://github.com/tum-pbs/PhiFlow)."
      ]
    },
    {
      "cell_type": "code",
      "metadata": {
        "id": "Z6YoAVKebfNV"
      },
      "source": [
        "!pip install --upgrade --quiet phiflow"
      ],
      "execution_count": 1,
      "outputs": []
    },
    {
      "cell_type": "code",
      "metadata": {
        "id": "da1uZcDXdVcF",
        "colab": {
          "base_uri": "https://localhost:8080/"
        },
        "outputId": "1082dc87-796c-4b57-e72e-5790fc1444c9"
      },
      "source": [
        "from phi.flow import *  # The Dash GUI is not supported on Google Colab, ignore the warning\n",
        "import pylab"
      ],
      "execution_count": 2,
      "outputs": [
        {
          "output_type": "stream",
          "text": [
            "/usr/local/lib/python3.6/dist-packages/phi/viz/display.py:80: UserWarning: GUI is disabled because of missing dependencies: No module named 'dash_core_components'. To install all dependencies, run $ pip install phiflow[gui]\n",
            "  warnings.warn('GUI is disabled because of missing dependencies: %s. To install all dependencies, run $ pip install phiflow[gui]' % import_error)\n"
          ],
          "name": "stderr"
        }
      ]
    },
    {
      "cell_type": "markdown",
      "metadata": {
        "id": "BVV1IKVqDfLl"
      },
      "source": [
        "## Setting up the simulation\n",
        "\n",
        "Φ<sub>Flow</sub> is object-oriented, i.e. you assemble your simulation by constructing a number of objects and adding them to the world.\n",
        "\n",
        "The following code sets up four fluid simulations that run in parallel (`batch_size=4`). Each fluid simulation has a circular Inflow at a different location."
      ]
    },
    {
      "cell_type": "code",
      "metadata": {
        "id": "WrA3IXDxv31P"
      },
      "source": [
        "world = World()\n",
        "fluid = world.add(Fluid(Domain([40, 32], boundaries=CLOSED), buoyancy_factor=0.05), physics=IncompressibleFlow())\n",
        "world.add(Inflow(Sphere(center=[5,14], radius=3), rate=0.2));"
      ],
      "execution_count": 3,
      "outputs": []
    },
    {
      "cell_type": "markdown",
      "metadata": {
        "id": "ExA0Pi2sFVka"
      },
      "source": [
        "The inflow affects the fluid's marker density. Because a Boussinesq model with a positive `buoyancy_factor` is active, the marker field `density` creates an upward force. Note that this density is not the density of the fluid, but the amount of marker quantity present in each cell.\n",
        "\n",
        "Let's plot the marker density after one simulation frame."
      ]
    },
    {
      "cell_type": "code",
      "metadata": {
        "id": "WmGZdOwswOva",
        "colab": {
          "base_uri": "https://localhost:8080/",
          "height": 282
        },
        "outputId": "3ae4d68d-b586-4bbe-eca9-a223d7720949"
      },
      "source": [
        "world.step()\n",
        "pylab.imshow(fluid.density.data[0,...,0], origin='lower', cmap='magma')"
      ],
      "execution_count": 4,
      "outputs": [
        {
          "output_type": "execute_result",
          "data": {
            "text/plain": [
              "<matplotlib.image.AxesImage at 0x7fc128aa7ef0>"
            ]
          },
          "metadata": {
            "tags": []
          },
          "execution_count": 4
        },
        {
          "output_type": "display_data",
          "data": {
            "image/png": "[encoded data removed]",
            "text/plain": [
              "<Figure size 432x288 with 1 Axes>"
            ]
          },
          "metadata": {
            "tags": [],
            "needs_background": "light"
          }
        }
      ]
    },
    {
      "cell_type": "markdown",
      "metadata": {
        "id": "PA-2tGuWGHv2"
      },
      "source": [
        "We can run more steps by repeatedly calling `world.step()`."
      ]
    },
    {
      "cell_type": "code",
      "metadata": {
        "id": "0hZk5HX3w4Or",
        "colab": {
          "base_uri": "https://localhost:8080/"
        },
        "outputId": "f7811af7-4b58-4ff6-a8b6-6e7bedefaa6e"
      },
      "source": [
        "for frame in range(10):\n",
        "  print('Computing frame %d' % frame)\n",
        "  world.step(dt=1.5)"
      ],
      "execution_count": 5,
      "outputs": [
        {
          "output_type": "stream",
          "text": [
            "Computing frame 0\n",
            "Computing frame 1\n",
            "Computing frame 2\n",
            "Computing frame 3\n",
            "Computing frame 4\n",
            "Computing frame 5\n",
            "Computing frame 6\n",
            "Computing frame 7\n",
            "Computing frame 8\n",
            "Computing frame 9\n"
          ],
          "name": "stdout"
        }
      ]
    },
    {
      "cell_type": "markdown",
      "metadata": {
        "id": "GMKKWQBLHIwP"
      },
      "source": [
        "Now the hot plume is starting to rise:"
      ]
    },
    {
      "cell_type": "code",
      "metadata": {
        "id": "Mfl80CjZxZcL",
        "colab": {
          "base_uri": "https://localhost:8080/",
          "height": 282
        },
        "outputId": "92f3a9ba-d403-4799-a543-132ee8ed234c"
      },
      "source": [
        "pylab.imshow(fluid.density.data[0,...,0], origin='lower', cmap='magma')"
      ],
      "execution_count": 6,
      "outputs": [
        {
          "output_type": "execute_result",
          "data": {
            "text/plain": [
              "<matplotlib.image.AxesImage at 0x7fc1265294a8>"
            ]
          },
          "metadata": {
            "tags": []
          },
          "execution_count": 6
        },
        {
          "output_type": "display_data",
          "data": {
            "image/png": "[encoded data removed]",
            "text/plain": [
              "<Figure size 432x288 with 1 Axes>"
            ]
          },
          "metadata": {
            "tags": [],
            "needs_background": "light"
          }
        }
      ]
    },
    {
      "cell_type": "markdown",
      "metadata": {
        "id": "wnbQJvA-HPSL"
      },
      "source": [
        "Let's compute and show a few more steps of the simulation."
      ]
    },
    {
      "cell_type": "code",
      "metadata": {
        "colab": {
          "base_uri": "https://localhost:8080/",
          "height": 489
        },
        "id": "tkhCOzc0ITsj",
        "outputId": "f6366c12-1eb5-4ff6-e0d7-94b806bfd8e4"
      },
      "source": [
        "frames = [fluid.density.data[0,...,0]]\n",
        "for frame in range(20):\n",
        "  print('Computing frame %d' % frame)\n",
        "  world.step(dt=1.5)\n",
        "  if frame%5==0:\n",
        "    frames.append(fluid.density.data[0,...,0])\n",
        "\n",
        "pylab.imshow(np.concatenate(frames,axis=1), origin='lower', cmap='magma')"
      ],
      "execution_count": 7,
      "outputs": [
        {
          "output_type": "stream",
          "text": [
            "Computing frame 0\n",
            "Computing frame 1\n",
            "Computing frame 2\n",
            "Computing frame 3\n",
            "Computing frame 4\n",
            "Computing frame 5\n",
            "Computing frame 6\n",
            "Computing frame 7\n",
            "Computing frame 8\n",
            "Computing frame 9\n",
            "Computing frame 10\n",
            "Computing frame 11\n",
            "Computing frame 12\n",
            "Computing frame 13\n",
            "Computing frame 14\n",
            "Computing frame 15\n",
            "Computing frame 16\n",
            "Computing frame 17\n",
            "Computing frame 18\n",
            "Computing frame 19\n"
          ],
          "name": "stdout"
        },
        {
          "output_type": "execute_result",
          "data": {
            "text/plain": [
              "<matplotlib.image.AxesImage at 0x7fc1265346a0>"
            ]
          },
          "metadata": {
            "tags": []
          },
          "execution_count": 7
        },
        {
          "output_type": "display_data",
          "data": {
            "image/png": "[encoded data removed]",
            "text/plain": [
              "<Figure size 432x288 with 1 Axes>"
            ]
          },
          "metadata": {
            "tags": [],
            "needs_background": "light"
          }
        }
      ]
    },
    {
      "cell_type": "markdown",
      "metadata": {
        "id": "ooqVxCPM8PXl"
      },
      "source": [
        "It looks simple here, but this is a powerful tool. The simulation could easily be extended to more complex cases or 3D, and they're fully compatible with back-propagation pipelines of deep learning frameworks. \n",
        "\n",
        "In the next chapters we'll show how to use these simulations for training NNs, and how to steer and modify them via trained NNs. This will illustrate how much we can improve the training process by having a solver in the loop, and especially by having differentiable solvers."
      ]
    },
    {
      "cell_type": "code",
      "metadata": {
        "id": "BL-AOqwMJmkq"
      },
      "source": [
        ""
      ],
      "execution_count": null,
      "outputs": []
    }
  ]
}
