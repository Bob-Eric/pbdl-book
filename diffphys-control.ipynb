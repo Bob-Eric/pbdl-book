{
 "cells": [
  {
   "cell_type": "markdown",
   "metadata": {
    "id": "P9P3fJaa30da"
   },
   "source": [
    "# Inverse Problems\n",
    "\n",
    "**TODOs**\n",
    "- re-cap formulation from paper\n",
    "- show targets in results\n",
    "\n",
    "... intro ...\n",
    "from {cite}`holl2019pdecontrol`\n",
    "\n",
    "... inverse problems ...\n",
    "\n"
   ]
  },
  {
   "cell_type": "markdown",
   "metadata": {},
   "source": [
    "## Learning to Control Incompressible Fluids \n",
    "\n",
    "This notebook will walk you through data generation, supervised network initialization and end-to-end training using our differentiable PDE solver, [Φ<sub>Flow</sub>](https://github.com/tum-pbs/PhiFlow). \n",
    "(_Note: this example uses an older version of Φ<sub>Flow</sub> (1.4.1)._)\n",
    "\n",
    "The code below replicates the shape transitions (experiment 2 from the ICLR 2020 paper [Learning to Control PDEs with Differentiable Physics](https://ge.in.tum.de/publications/2020-iclr-holl/)). The experiment is described in detail in section D.2 of the [appendix](https://openreview.net/pdf?id=HyeSin4FPB).\n",
    "\n",
    "**TODO, integrate?**\n",
    "If you havn't already, check out the notebook on controlling Burgers' Equation. It covers the basics in more detail.\n",
    "\n",
    "First we need to load phiflow and download the control code helpers (which will end up under `./src`) and some numpy arrays with intial shapes."
   ]
  },
  {
   "cell_type": "code",
   "execution_count": 7,
   "metadata": {
    "colab": {
     "base_uri": "https://localhost:8080/"
    },
    "id": "pwVPXx_Y30dd",
    "outputId": "17eeffaa-9651-48ea-b3a9-d479fc53adab"
   },
   "outputs": [
    {
     "name": "stdout",
     "output_type": "stream",
     "text": [
      "  Building wheel for phiflow (setup.py) ... \u001b[?25l\u001b[?25hdone\n",
      "Could not load resample cuda libraries: CUDA binaries not found at /usr/local/lib/python3.7/dist-packages/phi/tf/cuda/build/resample.so. Run \"python setup.py cuda\" to compile them\n"
     ]
    },
    {
     "name": "stderr",
     "output_type": "stream",
     "text": [
      "/usr/local/lib/python3.7/dist-packages/phi/tf/__init__.py:7: UserWarning: TensorFlow 2 is not fully supported by PhiFlow.\n",
      "  warnings.warn('TensorFlow 2 is not fully supported by PhiFlow.')\n",
      "/usr/local/lib/python3.7/dist-packages/phi/tf/flow.py:14: UserWarning: TensorFlow-CUDA solver is not available. To compile it, download phiflow sources and run\n",
      "$ python setup.py tf_cuda\n",
      "before reinstalling phiflow.\n",
      "  warnings.warn(\"TensorFlow-CUDA solver is not available. To compile it, download phiflow sources and run\\n$ python setup.py tf_cuda\\nbefore reinstalling phiflow.\")\n"
     ]
    }
   ],
   "source": [
    "!pip install --upgrade --quiet git+https://github.com/tum-pbs/PhiFlow@1.4.1\n",
    "\n",
    "import matplotlib.pyplot as plt\n",
    "from phi.flow import *\n",
    "\n",
    "# this essentially copies over the code from https://github.com/holl-/PDE-Control\n",
    "if not os.path.isfile('shapes/Shape_000000.npz'):\n",
    "  import urllib.request\n",
    "  url=\"https://ge.in.tum.de/download/2020-iclr-holl/control.zip\"\n",
    "  print(\"Downloading, this can take a few minutes the first time...\")\n",
    "  urllib.request.urlretrieve(url, 'control.zip')\n",
    "  import os\n",
    "  os.system(\"unzip control.zip\")\n",
    "\n",
    "# now we can load the necessary phiflow libraries and helper functions\n",
    "import sys; sys.path.append('./src')\n",
    "from shape_utils import load_shapes, distribute_random_shape\n",
    "from control.pde.incompressible_flow import IncompressibleFluidPDE\n",
    "from control.control_training import ControlTraining\n",
    "from control.sequences import StaggeredSequence, RefinedSequence\n"
   ]
  },
  {
   "cell_type": "markdown",
   "metadata": {
    "id": "vQCiicZv30de"
   },
   "source": [
    "## Data Generation\n",
    "\n",
    "Before starting the training, we have to generate a data set to train with. I.e., the goal is to pre-compute our a set of ground truth time sequences $u^*$. Due to the complexity of the training below, we'll use a staged approach that pre-trains a supervised network as a rough initialization, and then refines it to learn control looking further and further ahead into the future (i.e., being trained for longer simulation sequences). \n",
    "\n",
    "First, let's set up a domain and basic parameters of the data generation step."
   ]
  },
  {
   "cell_type": "code",
   "execution_count": 9,
   "metadata": {
    "id": "EthZeAV030df"
   },
   "outputs": [],
   "source": [
    "domain = Domain([64, 64])  # 1D Grid resolution and physical size\n",
    "step_count = 16  # how many solver steps to perform\n",
    "dt = 1.0  # Time increment per solver step\n",
    "example_count = 1000\n",
    "batch_size = 100\n",
    "data_path = 'shape-transitions'\n",
    "pretrain_data_path = 'moving-squares'\n",
    "shape_library = load_shapes('shapes')"
   ]
  },
  {
   "cell_type": "markdown",
   "metadata": {
    "id": "eQdzVAJH30dg"
   },
   "source": [
    "The following cell creates the dataset we want to train our model on.\n",
    "Each example consists of a start and target (end) frame which are generated by placing a random shape somewhere within the domain."
   ]
  },
  {
   "cell_type": "code",
   "execution_count": 10,
   "metadata": {
    "colab": {
     "base_uri": "https://localhost:8080/"
    },
    "id": "MaAzExNW30dh",
    "outputId": "ae340096-5016-4314-97a8-edd89f617040"
   },
   "outputs": [
    {
     "name": "stdout",
     "output_type": "stream",
     "text": [
      "shape-transitions/sim_000000\n",
      "shape-transitions/sim_000100\n",
      "shape-transitions/sim_000200\n",
      "shape-transitions/sim_000300\n",
      "shape-transitions/sim_000400\n",
      "shape-transitions/sim_000500\n",
      "shape-transitions/sim_000600\n",
      "shape-transitions/sim_000700\n",
      "shape-transitions/sim_000800\n",
      "shape-transitions/sim_000900\n"
     ]
    }
   ],
   "source": [
    "for scene in Scene.list(data_path): scene.remove()\n",
    "\n",
    "for _ in range(example_count // batch_size):\n",
    "    scene = Scene.create(data_path, count=batch_size, copy_calling_script=False)\n",
    "    print(scene)\n",
    "    start = distribute_random_shape(domain.resolution, batch_size, shape_library)\n",
    "    end__ = distribute_random_shape(domain.resolution, batch_size, shape_library)\n",
    "    [scene.write_sim_frame([start], ['density'], frame=f) for f in range(step_count)]\n",
    "    scene.write_sim_frame([end__], ['density'], frame=step_count)"
   ]
  },
  {
   "cell_type": "markdown",
   "metadata": {
    "id": "AIh2z-be30di"
   },
   "source": [
    "Since this dataset does not contain any intermediate frames, it does not allow for supervised pretraining. This is because to pre-train a CFE, two consecutive frames are required and to pretrain an $OP_n$, three frames with distance $n/2$ are needed.\n",
    "\n",
    "Instead, we create a second dataset which contains intermediate frames. This does not need to look like the actual dataset since it's only used for network initialization. Here, we linearly move a rectangle around the domain."
   ]
  },
  {
   "cell_type": "code",
   "execution_count": 11,
   "metadata": {
    "colab": {
     "base_uri": "https://localhost:8080/"
    },
    "id": "A0QlQ-AL30di",
    "outputId": "1c8a2743-c846-44a2-fe74-f07123166df4"
   },
   "outputs": [
    {
     "name": "stdout",
     "output_type": "stream",
     "text": [
      "moving-squares/sim_000000\n",
      "moving-squares/sim_000100\n",
      "moving-squares/sim_000200\n",
      "moving-squares/sim_000300\n",
      "moving-squares/sim_000400\n",
      "moving-squares/sim_000500\n",
      "moving-squares/sim_000600\n",
      "moving-squares/sim_000700\n",
      "moving-squares/sim_000800\n",
      "moving-squares/sim_000900\n"
     ]
    }
   ],
   "source": [
    "for scene in Scene.list(pretrain_data_path): scene.remove()\n",
    "\n",
    "for scene_index in range(example_count // batch_size):\n",
    "    scene = Scene.create(pretrain_data_path, count=batch_size, copy_calling_script=False)\n",
    "    print(scene)\n",
    "    pos0 = np.random.randint(10, 56, (batch_size, 2))  # start position\n",
    "    pose = np.random.randint(10, 56, (batch_size, 2))  # end position\n",
    "    size = np.random.randint(6,  10,  (batch_size, 2))\n",
    "    for frame in range(step_count+1):\n",
    "        time = frame / float(step_count + 1)\n",
    "        pos = np.round(pos0 * (1 - time) + pose * time).astype(np.int)\n",
    "        density = AABox(lower=pos-size//2, upper=pos-size//2+size).value_at(domain.center_points())\n",
    "        scene.write_sim_frame([density], ['density'], frame=frame)"
   ]
  },
  {
   "cell_type": "markdown",
   "metadata": {
    "id": "cwrv1oHs30dj"
   },
   "source": [
    "## Supervised Initialization"
   ]
  },
  {
   "cell_type": "code",
   "execution_count": 12,
   "metadata": {
    "id": "ZcbTw9cF30dk"
   },
   "outputs": [],
   "source": [
    "test_range = range(100)\n",
    "val_range = range(100, 200)\n",
    "train_range = range(200, 1000)"
   ]
  },
  {
   "cell_type": "markdown",
   "metadata": {
    "id": "22TTd6xJ30dk"
   },
   "source": [
    "The following cell trains all OP$_n \\,\\, \\forall n\\in\\{2,4,8,16\\}$.\n",
    "The `ControlTraining` class is used to set up the optimization problem.\n",
    "\n",
    "The loss for the supervised initialization is defined as the observation loss at the center frame.\n",
    "\n",
    "$\\boldsymbol L_o^\\textrm{sup} = \\left|\\mathrm{OP}[o(t_i),o(t_j)] - u^*\\left(\\frac{t_i+t_j}{2}\\right)\\right|^2.$\n",
    "\n",
    "Consequently, no sequence needs to be simulated (`sequence_class=None`) and an observation loss is required at frame $\\frac n 2$ (`obs_loss_frames=[n // 2]`).\n",
    "The pretrained network checkpoints are stored in `supervised_checkpoints`.\n",
    "\n",
    "*Note: The next cell will run for some time. If you have a set of pretrained networks, you can skip it and load the pretrained networks instead (see instructions below).*"
   ]
  },
  {
   "cell_type": "code",
   "execution_count": null,
   "metadata": {
    "id": "b5ksGZwO30dl"
   },
   "outputs": [],
   "source": [
    "supervised_checkpoints = {}\n",
    "\n",
    "for n in [2, 4, 8, 16]:\n",
    "    app = ControlTraining(n, IncompressibleFluidPDE(domain, dt),\n",
    "                          datapath=pretrain_data_path, val_range=val_range, train_range=train_range, trace_to_channel=lambda _: 'density',\n",
    "                          obs_loss_frames=[n//2], trainable_networks=['OP%d' % n],\n",
    "                          sequence_class=None).prepare()\n",
    "    for i in range(1000):\n",
    "        app.progress()  # Run Optimization for one batch\n",
    "    supervised_checkpoints['OP%d' % n] = app.save_model()"
   ]
  },
  {
   "cell_type": "code",
   "execution_count": 14,
   "metadata": {
    "colab": {
     "base_uri": "https://localhost:8080/"
    },
    "id": "_A9-V1Vg30dl",
    "outputId": "cf4ff331-e175-4350-928b-7172043c22f1"
   },
   "outputs": [
    {
     "data": {
      "text/plain": [
       "{'OP16': '/root/phi/model/control-training/sim_000003/checkpoint_00001000',\n",
       " 'OP2': '/root/phi/model/control-training/sim_000000/checkpoint_00001000',\n",
       " 'OP4': '/root/phi/model/control-training/sim_000001/checkpoint_00001000',\n",
       " 'OP8': '/root/phi/model/control-training/sim_000002/checkpoint_00001000'}"
      ]
     },
     "execution_count": 14,
     "metadata": {
      "tags": []
     },
     "output_type": "execute_result"
    }
   ],
   "source": [
    "supervised_checkpoints"
   ]
  },
  {
   "cell_type": "code",
   "execution_count": 15,
   "metadata": {
    "id": "jD7nKXCv30dl"
   },
   "outputs": [],
   "source": [
    "# supervised_checkpoints = {'OP%d' % n: '../networks/shapes/supervised/OP%d_1000' % n for n in [2, 4, 8, 16]}"
   ]
  },
  {
   "cell_type": "markdown",
   "metadata": {
    "id": "imuKMrRG30dm"
   },
   "source": [
    "## CFE Pretraining with Differentiable Physics"
   ]
  },
  {
   "cell_type": "markdown",
   "metadata": {
    "id": "bklXI_o130dm"
   },
   "source": [
    "To pretrain the CFE, we set up a simulation with a single step of the differentiable solver.\n",
    "\n",
    "The following cell trains the CFE network from scratch. You can skip it an load the checkpoint by running the cell after."
   ]
  },
  {
   "cell_type": "code",
   "execution_count": null,
   "metadata": {
    "id": "kCtOr3ed30dn"
   },
   "outputs": [],
   "source": [
    "app = ControlTraining(1, IncompressibleFluidPDE(domain, dt),\n",
    "                      datapath=pretrain_data_path, val_range=val_range, train_range=train_range, trace_to_channel=lambda _: 'density',\n",
    "                      obs_loss_frames=[1], trainable_networks=['CFE']).prepare()\n",
    "for i in range(1000):\n",
    "    app.progress()  # Run Optimization for one batch\n",
    "supervised_checkpoints['CFE'] = app.save_model()"
   ]
  },
  {
   "cell_type": "code",
   "execution_count": 17,
   "metadata": {
    "id": "-KOcgr5M30dn"
   },
   "outputs": [],
   "source": [
    "# supervised_checkpoints['CFE'] = '../networks/shapes/CFE/CFE_2000'"
   ]
  },
  {
   "cell_type": "markdown",
   "metadata": {},
   "source": [
    "Note that we have not actually set up a simulation for the training. To evaluate the quality of our current solutions, we can use the `ControlTraining` class again but this time passing a `sequence_class`.\n",
    "With a sequence class, `ControlTraining` sets up the necessary physics steps and networks.\n",
    "Example sequence classes are `StaggeredSequence` and `RefinedSequence`.\n",
    "\n",
    "**TODO** , add preview?\n"
   ]
  },
  {
   "cell_type": "markdown",
   "metadata": {
    "id": "g9HcP2oK30do"
   },
   "source": [
    "## End-to-end Training with Differentiable Physics"
   ]
  },
  {
   "cell_type": "markdown",
   "metadata": {
    "id": "NipTaC2S30do"
   },
   "source": [
    "To initiate an end-to-end training of the $CFE$ and all $OP_n$ networks with the differentiable physics loss , we create a new `ControlTraining` instance with the staggered execution scheme.\n",
    "\n",
    "The following cell builds the computational graph with `step_count` solver steps without initializing the network weights.\n"
   ]
  },
  {
   "cell_type": "code",
   "execution_count": 18,
   "metadata": {
    "colab": {
     "base_uri": "https://localhost:8080/"
    },
    "id": "iJjrTrl530dp",
    "outputId": "75fc502c-b769-4fe8-9332-a1401d6476df"
   },
   "outputs": [
    {
     "name": "stdout",
     "output_type": "stream",
     "text": [
      "App created. Scene directory is /root/phi/model/control-training/sim_000005 (INFO), 2021-03-03 09:56:12,572n\n",
      "\n",
      "Sequence class: <class 'control.sequences.StaggeredSequence'> (INFO), 2021-03-03 09:56:12,575n\n",
      "\n",
      "Partition length 16 sequence (from 0 to 16) at frame 8\n"
     ]
    },
    {
     "name": "stderr",
     "output_type": "stream",
     "text": [
      "/usr/local/lib/python3.7/dist-packages/phi/struct/context.py:18: UserWarning: struct.unsafe() is deprecated. Use map() with new_type argument to avoid validation.\n",
      "  warnings.warn(\"struct.unsafe() is deprecated. Use map() with new_type argument to avoid validation.\")\n",
      "/usr/local/lib/python3.7/dist-packages/tensorflow/python/keras/legacy_tf_layers/convolutional.py:414: UserWarning: `tf.layers.conv2d` is deprecated and will be removed in a future version. Please Use `tf.keras.layers.Conv2D` instead.\n",
      "  warnings.warn('`tf.layers.conv2d` is deprecated and '\n",
      "/usr/local/lib/python3.7/dist-packages/tensorflow/python/keras/engine/base_layer_v1.py:1719: UserWarning: `layer.apply` is deprecated and will be removed in a future version. Please use `layer.__call__` method instead.\n",
      "  warnings.warn('`layer.apply` is deprecated and '\n"
     ]
    },
    {
     "name": "stdout",
     "output_type": "stream",
     "text": [
      "Partition length 8 sequence (from 0 to 8) at frame 4\n",
      "Partition length 4 sequence (from 0 to 4) at frame 2\n",
      "Partition length 2 sequence (from 0 to 2) at frame 1\n",
      "Execute -> 1\n",
      "Execute -> 2\n",
      "Partition length 2 sequence (from 2 to 4) at frame 3\n",
      "Execute -> 3\n",
      "Execute -> 4\n",
      "Partition length 4 sequence (from 4 to 8) at frame 6\n",
      "Partition length 2 sequence (from 4 to 6) at frame 5\n",
      "Execute -> 5\n",
      "Execute -> 6\n",
      "Partition length 2 sequence (from 6 to 8) at frame 7\n",
      "Execute -> 7\n",
      "Execute -> 8\n",
      "Partition length 8 sequence (from 8 to 16) at frame 12\n",
      "Partition length 4 sequence (from 8 to 12) at frame 10\n",
      "Partition length 2 sequence (from 8 to 10) at frame 9\n",
      "Execute -> 9\n",
      "Execute -> 10\n",
      "Partition length 2 sequence (from 10 to 12) at frame 11\n",
      "Execute -> 11\n",
      "Execute -> 12\n",
      "Partition length 4 sequence (from 12 to 16) at frame 14\n",
      "Partition length 2 sequence (from 12 to 14) at frame 13\n",
      "Execute -> 13\n",
      "Execute -> 14\n",
      "Partition length 2 sequence (from 14 to 16) at frame 15\n",
      "Execute -> 15\n",
      "Execute -> 16\n",
      "Target loss: Tensor(\"truediv_16:0\", shape=(), dtype=float32) (INFO), 2021-03-03 09:56:35,565n\n",
      "\n",
      "Force loss: Tensor(\"truediv_107:0\", shape=(), dtype=float32) (INFO), 2021-03-03 09:56:41,314n\n",
      "\n",
      "Supervised loss at frame 16: Tensor(\"truediv_108:0\", shape=(), dtype=float32) (INFO), 2021-03-03 09:56:41,329n\n",
      "\n",
      "Setting up loss (INFO), 2021-03-03 09:56:41,331n\n",
      "\n",
      "Preparing data (INFO), 2021-03-03 09:57:11,975n\n",
      "\n",
      "Initializing variables (INFO), 2021-03-03 09:57:11,994n\n",
      "\n",
      "Model variables contain 0 total parameters. (INFO), 2021-03-03 09:57:14,868n\n",
      "\n",
      "Validation (000000): Learning_Rate: 0.0005, GT_obs_16: 392040.8, Loss_reg_unscaled: 0.9713974, Loss_reg_scale: 1.0, Loss: 784081.6 (INFO), 2021-03-03 09:57:33,122n\n",
      "\n"
     ]
    }
   ],
   "source": [
    "staggered_app = ControlTraining(step_count, IncompressibleFluidPDE(domain, dt),\n",
    "                                datapath=data_path, val_range=val_range, train_range=train_range, trace_to_channel=lambda _: 'density',\n",
    "                                obs_loss_frames=[step_count], trainable_networks=['CFE', 'OP2', 'OP4', 'OP8', 'OP16'],\n",
    "                                sequence_class=StaggeredSequence, learning_rate=5e-4).prepare()"
   ]
  },
  {
   "cell_type": "markdown",
   "metadata": {
    "id": "tUzt45Xv30dp"
   },
   "source": [
    "The next cell initializes the networks using the supervised checkpoints and then trains all networks jointly. You can skip it and load the checkpoint by running the cell after. You can increase the number of optimization steps or execute the next cell multiple times to further increase performance.\n",
    "\n",
    "*Note: The next cell will run for some time. You can skip the next two cells and load the pretrained networks instead.*"
   ]
  },
  {
   "cell_type": "code",
   "execution_count": null,
   "metadata": {
    "id": "oMTXnLqR30dq"
   },
   "outputs": [],
   "source": [
    "staggered_app.load_checkpoints(supervised_checkpoints)\n",
    "for i in range(1000):\n",
    "    staggered_app.progress()  # Run staggered Optimization for one batch\n",
    "staggered_checkpoint = staggered_app.save_model()"
   ]
  },
  {
   "cell_type": "code",
   "execution_count": 20,
   "metadata": {
    "id": "xpLvDj5-30dq"
   },
   "outputs": [],
   "source": [
    "# staggered_checkpoint = {net: '../networks/shapes/staggered/all_53750' for net in ['CFE', 'OP2', 'OP4', 'OP8', 'OP16']}\n",
    "# staggered_app.load_checkpoints(staggered_checkpoint)"
   ]
  },
  {
   "cell_type": "markdown",
   "metadata": {
    "id": "KkQxqh1u30dr"
   },
   "source": [
    "Now that the network is trained, we can infer some trajectories from the test set.\n",
    "This corresponds to Fig 5b and 18b from the [paper](https://openreview.net/pdf?id=HyeSin4FPB)."
   ]
  },
  {
   "cell_type": "code",
   "execution_count": 21,
   "metadata": {
    "id": "8AgfnvE830dr"
   },
   "outputs": [],
   "source": [
    "states = staggered_app.infer_all_frames(test_range)"
   ]
  },
  {
   "cell_type": "code",
   "execution_count": 22,
   "metadata": {
    "colab": {
     "base_uri": "https://localhost:8080/",
     "height": 461
    },
    "id": "dJvecqOY30dr",
    "outputId": "d20b09e3-a7bb-4298-ffba-97a966779650"
   },
   "outputs": [
    {
     "data": {
      "image/png": "[encoded data removed]",
      "text/plain": [
       "<Figure size 864x504 with 27 Axes>"
      ]
     },
     "metadata": {
      "needs_background": "light",
      "tags": []
     },
     "output_type": "display_data"
    }
   ],
   "source": [
    "import pylab\n",
    "batches = [0, 1, 2]\n",
    "pylab.subplots(len(batches), 9, sharey='row', sharex='col', figsize=(12, 7))\n",
    "pylab.tight_layout(w_pad=0)\n",
    "for i, batch in enumerate(batches):\n",
    "    for t in range(9):\n",
    "        pylab.subplot(len(batches), 9, t + 1 + i * 9)\n",
    "        pylab.title('t=%d' % t * 2)\n",
    "        pylab.imshow(states[t * 2].density.data[batch, ..., 0], origin='lower')"
   ]
  },
  {
   "cell_type": "markdown",
   "metadata": {
    "id": "sQE9mfID30ds"
   },
   "source": [
    "\n",
    "**TODO, show targets; discuss**\n"
   ]
  },
  {
   "cell_type": "markdown",
   "metadata": {},
   "source": [
    "## Next Steps\n",
    "\n",
    "- Change the `test_range` indices to look at different examples, and test the generalization of the trained controller networks.\n",
    "- Try using a `RefinedSequence` (instead of a `StaggeredSequence`) to train with the prediction refinement scheme. This will yield a further improved control."
   ]
  },
  {
   "cell_type": "code",
   "execution_count": null,
   "metadata": {},
   "outputs": [],
   "source": []
  }
 ],
 "metadata": {
  "colab": {
   "name": "Shape Transitions.ipynb",
   "provenance": []
  },
  "kernelspec": {
   "display_name": "Python 3",
   "language": "python",
   "name": "python3"
  },
  "language_info": {
   "codemirror_mode": {
    "name": "ipython",
    "version": 3
   },
   "file_extension": ".py",
   "mimetype": "text/x-python",
   "name": "python",
   "nbconvert_exporter": "python",
   "pygments_lexer": "ipython3",
   "version": "3.8.5"
  }
 },
 "nbformat": 4,
 "nbformat_minor": 1
}
