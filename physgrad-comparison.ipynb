{
 "cells": [
  {
   "cell_type": "markdown",
   "metadata": {},
   "source": [
    "# Optimizations with Physical Gradients\n",
    "\n",
    "Test equations: properly define z in R2 to R2 etc. <br>\n",
    " <br>\n",
    " \n",
    "$\\mathbf{z}(\\mathbf{x}) = \\mathbf{z}(x_0,x_1) = [x_0 \\ x_1^2]^T$ <br>\n",
    "$L(\\mathbf{z}) = |\\mathbf{z}|^2 = z_0^2 + z_1^2$ <br>\n",
    "\n",
    "(Note, to be in sync with python arrays, indices start at 0 here.)\n",
    "\n",
    "..."
   ]
  },
  {
   "cell_type": "code",
   "execution_count": 1,
   "metadata": {},
   "outputs": [
    {
     "name": "stderr",
     "output_type": "stream",
     "text": [
      "WARNING:absl:No GPU/TPU found, falling back to CPU. (Set TF_CPP_MIN_LOG_LEVEL=0 and rerun for more info.)\n"
     ]
    },
    {
     "name": "stdout",
     "output_type": "stream",
     "text": [
      "Some test calls:\n"
     ]
    },
    {
     "data": {
      "text/plain": [
       "(DeviceArray([3., 9.], dtype=float32),\n",
       " DeviceArray(90., dtype=float32),\n",
       " DeviceArray(90., dtype=float32),\n",
       " DeviceArray(0, dtype=int32))"
      ]
     },
     "execution_count": 1,
     "metadata": {},
     "output_type": "execute_result"
    }
   ],
   "source": [
    "import jax\n",
    "import jax.numpy as np\n",
    "import numpy as onp\n",
    "\n",
    "\n",
    "# \"physics\" function z\n",
    "def fun_z(x):\n",
    "    return np.array( [x[0], x[1]*x[1]] )\n",
    "\n",
    "# simple L2 loss\n",
    "def fun_L(z):\n",
    "    #return z[0]*z[0] + z[1]*z[1] # \"manual version\"\n",
    "    return np.sum( np.square(z) )\n",
    "\n",
    "# composite function with L & z\n",
    "def fun(x):\n",
    "    return fun_L(fun_z(x))\n",
    "\n",
    "\n",
    "x = np.asarray([3,3], dtype=np.float32)\n",
    "\n",
    "print(\"Some test calls:\") \n",
    "fun_z(x) , fun_L( fun_z(x) ), fun(x), fun([0,0])"
   ]
  },
  {
   "cell_type": "code",
   "execution_count": 2,
   "metadata": {},
   "outputs": [
    {
     "name": "stdout",
     "output_type": "stream",
     "text": [
      "Jacobian L(z): [ 6. 18.]\n",
      "Jacobian z(x): \n",
      "[[1. 0.]\n",
      " [0. 6.]]\n",
      "Gradient for full L(x): [  6. 108.]\n",
      "\n",
      "Sanity check with inverse Jacobian of z, this should give x again: [3. 3.]\n"
     ]
    }
   ],
   "source": [
    "\n",
    "# this works:\n",
    "print(\"Jacobian L(z): \" + format(jax.grad(fun_L)(fun_z(x))) )\n",
    "\n",
    "# the following would give an error as z (and hence fun_z) is not scalar\n",
    "#jax.grad(fun_z)(x) \n",
    "\n",
    "# computing the jacobian of z is a valid operation:\n",
    "J = jax.jacobian(fun_z)(x)\n",
    "print( \"Jacobian z(x): \\n\" + format(J) ) \n",
    "\n",
    "# the following also gives error, JAX grad needs a single function object\n",
    "#jax.grad( fun_L(fun_z) )(x) \n",
    "\n",
    "# instead use composite 'fun' from above\n",
    "print(\"Gradient for full L(x): \" + format( jax.grad(fun)(x) ) )\n",
    "\n",
    "print( \"\\nSanity check with inverse Jacobian of z, this should give x again: \" + format(np.linalg.solve(J, np.matmul(J,x) )) )\n"
   ]
  },
  {
   "cell_type": "code",
   "execution_count": null,
   "metadata": {},
   "outputs": [],
   "source": []
  },
  {
   "cell_type": "markdown",
   "metadata": {},
   "source": [
    "This already shows a problem, the gradient mostly points along $x_2$ with 108! \n",
    "We know both dimensions should go towards zero, this points to problems..."
   ]
  },
  {
   "cell_type": "markdown",
   "metadata": {},
   "source": [
    "## Gradient descent\n",
    "\n",
    "Update step:<br>\n",
    "\n",
    "$\\Delta \\mathbf{x} = \n",
    "- \\eta ( J_{L} J_{\\mathbf{z}} )^T\n",
    "=\n",
    "- \\eta ( \\frac{\\partial L }{ \\partial \\mathbf{z} } \\frac{\\partial \\mathbf{z} }{ \\partial \\mathbf{x} }  )^T$\n",
    "\n",
    "with step size $\\eta$, \n",
    "start at $x=[3,3]$\n",
    "\n",
    "..."
   ]
  },
  {
   "cell_type": "code",
   "execution_count": 3,
   "metadata": {},
   "outputs": [
    {
     "name": "stdout",
     "output_type": "stream",
     "text": [
      "GD iter 0: [2.94      1.9200001]\n",
      "GD iter 1: [2.8812    1.6368846]\n",
      "GD iter 2: [2.823576  1.4614503]\n",
      "GD iter 3: [2.7671044 1.3365935]\n",
      "GD iter 4: [2.7117622 1.2410815]\n",
      "GD iter 5: [2.657527  1.1646168]\n",
      "GD iter 6: [2.6043763 1.1014326]\n",
      "GD iter 7: [2.5522888 1.0479842]\n",
      "GD iter 8: [2.501243  1.0019454]\n",
      "GD iter 9: [2.4512184  0.96171147]\n"
     ]
    }
   ],
   "source": [
    "x = np.asarray([3.,3.])\n",
    "eta = 0.01\n",
    "history = [x]; updates = []\n",
    "\n",
    "for i in range(10):\n",
    "    G = jax.grad(fun)(x)\n",
    "    x += -eta * G\n",
    "    history.append(x); updates.append(G)\n",
    "    print( \"GD iter %d: \"%i + format(x) )\n"
   ]
  },
  {
   "cell_type": "markdown",
   "metadata": {},
   "source": [
    "Let's look at the progression of this...\n",
    "Target shown in black"
   ]
  },
  {
   "cell_type": "code",
   "execution_count": 4,
   "metadata": {},
   "outputs": [
    {
     "data": {
      "text/plain": [
       "Text(0, 0.5, 'x1')"
      ]
     },
     "execution_count": 4,
     "metadata": {},
     "output_type": "execute_result"
    },
    {
     "data": {
      "image/png": "[encoded data removed]",
      "text/plain": [
       "<Figure size 400x400 with 1 Axes>"
      ]
     },
     "metadata": {
      "needs_background": "light"
     },
     "output_type": "display_data"
    }
   ],
   "source": [
    "import matplotlib.pyplot as plt\n",
    "axes = plt.figure(figsize=(4, 4), dpi=100).gca()\n",
    "historyGD = onp.asarray(history)\n",
    "updatesGD = onp.asarray(updates) # for later\n",
    "axes.scatter(historyGD[:,0], historyGD[:,1], lw=0.5, color='blue')\n",
    "axes.scatter([0], [0], lw=0.25, color='black') # target at 0,0\n",
    "axes.set_xlabel('x0')\n",
    "axes.set_ylabel('x1')"
   ]
  },
  {
   "cell_type": "markdown",
   "metadata": {},
   "source": [
    "## Newton\n",
    "\n",
    "For Newton's method, let's consider the combined function, i.e., \n",
    "$L(\\mathbf{x}) = x_0^2 + x_1^4$\n",
    "...\n",
    "\n",
    "Newton's method update step is given by\n",
    "$\n",
    "\\Delta \\mathbf{x} = \n",
    "- \\eta \\left( \\frac{\\partial^2 L }{ \\partial \\mathbf{x}^2 }  \\right)^{-1}\n",
    "  \\frac{\\partial L }{ \\partial \\mathbf{x} }\n",
    "=\n",
    "- \\eta \\ H_L^{-1} \\ ( J_{L} J_{\\mathbf{z}} )^T\n",
    "$\n",
    "\n",
    "Hence we need to compute the Hessian and its inverse, easy in JAX, and very cheap here, but not so simple in practice...\n"
   ]
  },
  {
   "cell_type": "code",
   "execution_count": 5,
   "metadata": {},
   "outputs": [
    {
     "name": "stdout",
     "output_type": "stream",
     "text": [
      "Newton iter 0: [2.        2.6666667]\n",
      "Newton iter 1: [1.3333333 2.3703704]\n",
      "Newton iter 2: [0.88888884 2.1069958 ]\n",
      "Newton iter 3: [0.59259254 1.8728852 ]\n",
      "Newton iter 4: [0.39506167 1.6647868 ]\n",
      "Newton iter 5: [0.26337445 1.4798105 ]\n",
      "Newton iter 6: [0.17558296 1.315387  ]\n",
      "Newton iter 7: [0.1170553 1.1692328]\n",
      "Newton iter 8: [0.07803687 1.0393181 ]\n",
      "Newton iter 9: [0.05202458 0.92383826]\n"
     ]
    }
   ],
   "source": [
    "x = np.asarray([3.,3.])\n",
    "eta = 1./3.\n",
    "history = [x]; updates = []\n",
    "\n",
    "for i in range(10):\n",
    "    G = jax.grad(fun)(x)\n",
    "    H = jax.jacobian(jax.jacobian(fun))(x)\n",
    "    #H = jax.jacfwd(jax.jacrev(fun_Lz))(x) # more efficient?    \n",
    "    Hinv = np.linalg.inv(H)\n",
    "    \n",
    "    x += -eta * np.matmul( Hinv , G)\n",
    "    history.append(x); updates.append( np.matmul( Hinv , G) )\n",
    "    print( \"Newton iter %d: \"%i + format(x) )\n",
    "\n"
   ]
  },
  {
   "cell_type": "markdown",
   "metadata": {},
   "source": [
    "Let's compare, Newton actually does better, note - uses different step size..."
   ]
  },
  {
   "cell_type": "code",
   "execution_count": 6,
   "metadata": {},
   "outputs": [
    {
     "data": {
      "text/plain": [
       "Text(0, 0.5, 'x1')"
      ]
     },
     "execution_count": 6,
     "metadata": {},
     "output_type": "execute_result"
    },
    {
     "data": {
      "image/png": "[encoded data removed]",
      "text/plain": [
       "<Figure size 400x400 with 1 Axes>"
      ]
     },
     "metadata": {
      "needs_background": "light"
     },
     "output_type": "display_data"
    }
   ],
   "source": [
    "axes = plt.figure(figsize=(4, 4), dpi=100).gca()\n",
    "historyNt = onp.asarray(history)\n",
    "updatesNt = onp.asarray(updates) \n",
    "axes.scatter(historyGD[:,0], historyGD[:,1], lw=0.5, color='blue')\n",
    "axes.scatter(historyNt[:,0], historyNt[:,1], lw=0.5, color='orange')\n",
    "axes.scatter([0], [0], lw=0.25, color='black') # target at 0,0\n",
    "axes.set_xlabel('x0')\n",
    "axes.set_ylabel('x1')"
   ]
  },
  {
   "cell_type": "markdown",
   "metadata": {},
   "source": [
    "## Physical Gradients\n",
    "\n",
    "Now we also use the _inverse physics_, i.e. the inverse of z:\n",
    "$\\mathbf{z}^{-1}(\\mathbf{x}) = [x_0 \\ x_1^{1/2}]^T$\n",
    "\n",
    "Let’s call intermediate physical result $\\mathbf{y}$, i.e. \n",
    "$\\mathbf{z}(\\mathbf{x}) = \\mathbf{y}$\n",
    "\n",
    "With an update step:\n",
    "$\n",
    "\\Delta \\mathbf{x} = \n",
    "\\mathbf{z}^{-1} \\left( \\mathbf{y} - \\eta_L \n",
    "  \\left( \\frac{\\partial^2 L }{ \\partial \\mathbf{z}^2 }  \\right)^{-1}\n",
    "  \\frac{\\partial L }{ \\partial \\mathbf{z} }\n",
    "\\right) - \\mathbf{x}\n",
    "$\n",
    "\n",
    "\n"
   ]
  },
  {
   "cell_type": "code",
   "execution_count": 7,
   "metadata": {},
   "outputs": [
    {
     "name": "stdout",
     "output_type": "stream",
     "text": [
      "PG iter 0: [2.1       2.5099802]\n",
      "PG iter 1: [1.4699999 2.1000001]\n",
      "PG iter 2: [1.0289999 1.7569861]\n",
      "PG iter 3: [0.72029996 1.47      ]\n",
      "PG iter 4: [0.50421   1.2298902]\n",
      "PG iter 5: [0.352947 1.029   ]\n",
      "PG iter 6: [0.24706289 0.86092323]\n",
      "PG iter 7: [0.17294402 0.7203    ]\n",
      "PG iter 8: [0.12106082 0.60264623]\n",
      "PG iter 9: [0.08474258 0.50421   ]\n"
     ]
    }
   ],
   "source": [
    "x = np.asarray([3.,3.])\n",
    "eta = 0.3\n",
    "history = [x]; updates = []\n",
    "\n",
    "def fun_z_inv_analytic(y):\n",
    "    return np.array( [y[0], np.power(y[1],0.5)] )\n",
    "\n",
    "for i in range(10):\n",
    "    y = fun_z(x)\n",
    "    \n",
    "    # Newton step for L(y)\n",
    "    GL = jax.grad(fun_L)(y)\n",
    "    HL = jax.jacobian(jax.jacobian(fun_L))(y)\n",
    "    HLinv = np.linalg.inv(HL)\n",
    "    y += -eta * np.matmul( HLinv , GL)\n",
    "\n",
    "    # \"inverse physics\" step via z-inverse\n",
    "    x = fun_z_inv_analytic(y)\n",
    "    history.append(x)\n",
    "    updates.append( history[-2] - history[-1] )\n",
    "    print( \"PG iter %d: \"%i + format(x) )\n",
    "\n"
   ]
  },
  {
   "cell_type": "markdown",
   "metadata": {},
   "source": [
    "All together now"
   ]
  },
  {
   "cell_type": "code",
   "execution_count": 8,
   "metadata": {},
   "outputs": [
    {
     "data": {
      "text/plain": [
       "Text(0, 0.5, 'x1')"
      ]
     },
     "execution_count": 8,
     "metadata": {},
     "output_type": "execute_result"
    },
    {
     "data": {
      "image/png": "[encoded data removed]",
      "text/plain": [
       "<Figure size 400x400 with 1 Axes>"
      ]
     },
     "metadata": {
      "needs_background": "light"
     },
     "output_type": "display_data"
    }
   ],
   "source": [
    "axes = plt.figure(figsize=(4, 4), dpi=100).gca()\n",
    "historyPG = onp.asarray(history)\n",
    "updatesPG = onp.asarray(updates) \n",
    "axes.scatter(historyGD[:,0], historyGD[:,1], lw=0.5, color='blue')\n",
    "axes.scatter(historyNt[:,0], historyNt[:,1], lw=0.5, color='orange')\n",
    "axes.scatter(historyPG[:,0], historyPG[:,1], lw=0.5, color='red')\n",
    "axes.scatter([0], [0], lw=0.25, color='black') # target at 0,0\n",
    "axes.set_xlabel('x0')\n",
    "axes.set_ylabel('x1')"
   ]
  },
  {
   "cell_type": "markdown",
   "metadata": {},
   "source": [
    "So, PG does best...\n",
    "Also most _diagonal_, i.e., direct path to target\n",
    "\n",
    "Difference also shows in first update steps: compare...\n",
    "GD mostly \"down\" along x1, Newton mostly along x0, PG is nicely diagonal."
   ]
  },
  {
   "cell_type": "code",
   "execution_count": 9,
   "metadata": {},
   "outputs": [
    {
     "name": "stdout",
     "output_type": "stream",
     "text": [
      "Diagonal lengths (larger is better): GD 1.053930, Nt 1.264911, PG 1.356443 \n"
     ]
    }
   ],
   "source": [
    "def mag(x):\n",
    "    return np.sqrt(np.sum(np.square(x)))\n",
    "\n",
    "def one_len(x):\n",
    "    return np.dot( x/mag(x), np.array([1,1])) \n",
    "\n",
    "print(\"Diagonal lengths (larger is better): GD %f, Nt %f, PG %f \" % \n",
    "      (one_len(updatesGD[0]) , one_len(updatesNt[0]) , one_len(updatesPG[0])) )\n"
   ]
  },
  {
   "cell_type": "markdown",
   "metadata": {},
   "source": [
    "## Approximate Inversions\n",
    "\n",
    "We can use BFGS if inverse of z is not readily available\n",
    "\n",
    "Just a bit ugly for calling `fmin_l_bfgs_b()` from scipy:"
   ]
  },
  {
   "cell_type": "code",
   "execution_count": 10,
   "metadata": {},
   "outputs": [
    {
     "name": "stdout",
     "output_type": "stream",
     "text": [
      "BFGS optimization test run, find x such that y=[2,2]:\n"
     ]
    },
    {
     "data": {
      "text/plain": [
       "array([2.00000003, 1.41421353])"
      ]
     },
     "execution_count": 10,
     "metadata": {},
     "output_type": "execute_result"
    }
   ],
   "source": [
    "#import numpy as np\n",
    "import jax.numpy as np\n",
    "\n",
    "def fun_z_inv_opt(target_y, x_ini):\n",
    "    # a bit ugly, we switch to pure scipy here inside each iteration for BFGS\n",
    "    import numpy as np\n",
    "    from scipy.optimize import fmin_l_bfgs_b\n",
    "    target_y = onp.array(target_y)\n",
    "    x_ini    = onp.array(x_ini)\n",
    "\n",
    "    def fun_z_opt(x,target_y=[2,2]):\n",
    "        y = onp.array( [x[0], x[1]*x[1]] ) # we cant use fun_z from JAX here\n",
    "        ret = onp.sum( onp.square(y-target_y) )\n",
    "        return ret\n",
    "    \n",
    "    ret = fmin_l_bfgs_b(lambda x: fun_z_opt(x,target_y), x_ini, approx_grad=True )\n",
    "    #print( ret ) # full BFGS details\n",
    "    return ret[0]\n",
    "\n",
    "print(\"BFGS optimization test run, find x such that y=[2,2]:\")\n",
    "fun_z_inv_opt([2,2], [3,3])\n"
   ]
  },
  {
   "cell_type": "code",
   "execution_count": 11,
   "metadata": {},
   "outputs": [
    {
     "name": "stdout",
     "output_type": "stream",
     "text": [
      "PG iter 0: [2.09999967 2.50998022]\n",
      "PG iter 1: [1.46999859 2.10000011]\n",
      "PG iter 2: [1.02899871 1.75698602]\n",
      "PG iter 3: [0.72029824 1.4699998 ]\n",
      "PG iter 4: [0.50420733 1.22988982]\n",
      "PG iter 5: [0.35294448 1.02899957]\n",
      "PG iter 6: [0.24705997 0.86092355]\n",
      "PG iter 7: [0.17294205 0.72030026]\n",
      "PG iter 8: [0.12106103 0.60264817]\n",
      "PG iter 9: [0.08474171 0.50421247]\n"
     ]
    }
   ],
   "source": [
    "x = np.asarray([3.,3.])\n",
    "eta = 0.3\n",
    "history = [x]; updates = []\n",
    "\n",
    "for i in range(10):    \n",
    "    # same as before, Newton step for L(y)\n",
    "    y = fun_z(x)\n",
    "    GL = jax.grad(fun_L)(y)\n",
    "    y += -eta * np.matmul( np.linalg.inv( jax.jacobian(jax.jacobian(fun_L))(y) ) , GL)\n",
    "\n",
    "    # optimize for inverse physics, assuming we dont have access to an inverse for fun_z\n",
    "    x = fun_z_inv_opt(y,x)\n",
    "    history.append(x)\n",
    "    updates.append( history[-2] - history[-1] )\n",
    "    print( \"PG iter %d: \"%i + format(x) )\n"
   ]
  },
  {
   "cell_type": "markdown",
   "metadata": {},
   "source": [
    "Nice! It works, just like PG. Not much point plotting this, it's basiclly the PG version, but let's measure the difference..."
   ]
  },
  {
   "cell_type": "code",
   "execution_count": 12,
   "metadata": {},
   "outputs": [
    {
     "name": "stdout",
     "output_type": "stream",
     "text": [
      "Diff analytic PG versus approximated: 0.000022\n"
     ]
    }
   ],
   "source": [
    "historyPGa = onp.asarray(history)\n",
    "updatesPGa = onp.asarray(updates) \n",
    "\n",
    "print(\"Diff analytic PG versus approximated: %f\" % (np.sum(np.abs(historyPGa-historyPG))) )\n"
   ]
  },
  {
   "cell_type": "markdown",
   "metadata": {},
   "source": [
    "## Conclusions \n",
    "That concludes simple example...\n",
    "\n",
    "Main takeaways:\n",
    "* PGs work neatly\n",
    "* much faster convergence\n",
    "    \n",
    "Coming up, complex example."
   ]
  },
  {
   "cell_type": "markdown",
   "metadata": {},
   "source": [
    "## Next Steps\n",
    "\n",
    "Try\n",
    "- X\n",
    "- Y"
   ]
  },
  {
   "cell_type": "code",
   "execution_count": null,
   "metadata": {},
   "outputs": [],
   "source": []
  }
 ],
 "metadata": {
  "kernelspec": {
   "display_name": "Python 3",
   "language": "python",
   "name": "python3"
  },
  "language_info": {
   "codemirror_mode": {
    "name": "ipython",
    "version": 3
   },
   "file_extension": ".py",
   "mimetype": "text/x-python",
   "name": "python",
   "nbconvert_exporter": "python",
   "pygments_lexer": "ipython3",
   "version": "3.8.5"
  }
 },
 "nbformat": 4,
 "nbformat_minor": 4
}
