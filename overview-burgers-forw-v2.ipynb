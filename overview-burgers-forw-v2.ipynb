{
 "cells": [
  {
   "cell_type": "markdown",
   "metadata": {},
   "source": [
    "# Simple Forward Simulation of Burgers Equation with Φ<sub>Flow</sub>\n",
    "\n",
    "This chapter will give an introduction for how to run _forward_, i.e., regular simulations starting with a given initial state and approximating a later state numerically, with Φ<sub>Flow</sub>.\n",
    "\n",
    "Burgers equations is a very simple, yet non-linear and non-trivial, model equation, and hence a very good starting point for experiments. It contains an advection and a diffusion term, and can lead to interesting shock formations due to a lack of additional constraints:\n",
    "$\n",
    "    \\frac{\\partial u}{\\partial{t}} + u \\nabla u =\n",
    "    \\nu \\nabla\\cdot \\nabla u\n",
    "$ \n",
    "\n",
    "Let's get some preliminaries out of the way: we'll import the Φ<sub>Flow</sub> library, and define our simulation domain with $n=128$ cells as discretization points for the 1D velocity $u$ in a periodic domain $\\Omega$ for the interval $[-1,1]$. We'll use 32 time `steps` for a time interval of 1, giving us `dt=1/32`. Additionally, we'll use a viscosity of $\\nu=0.01/\\pi$.\n",
    "\n",
    "We'll also define an initial state given by $-\\text{sin}(\\pi x$ in the numpy array `initial`, which we'll use to initialize the velocity $u$ in the simulation in the next cell.\n",
    "\n",
    "**Note:** Below, the first command with a \"!\" prefix installs the [Φ<sub>Flow</sub> Python package from GitHub](https://github.com/tum-pbs/PhiFlow) via `pip` in your python environment. (You can skip or modify this command if necessary, depending on your system.)"
   ]
  },
  {
   "cell_type": "code",
   "execution_count": 1,
   "metadata": {},
   "outputs": [
    {
     "data": {
      "text/plain": [
       "(128,)"
      ]
     },
     "execution_count": 1,
     "metadata": {},
     "output_type": "execute_result"
    }
   ],
   "source": [
    "#!pip install --upgrade --quiet phiflow\n",
    "from phi.flow import *\n",
    "\n",
    "# run with phiflow\n",
    "n = 128\n",
    "steps = 32\n",
    "dt = 1./steps\n",
    "nu = 0.01/np.pi\n",
    "\n",
    "initial = np.asarray( [-np.sin(np.pi * x) * 1. for x in np.linspace(-1,1,n)] ) # 1D array\n",
    "#initial = np.asarray( [ [-np.sin(np.pi * x) * 1.] for x in np.linspace(-1,1,n)] ) # with additional component channel\n",
    "initial.shape"
   ]
  },
  {
   "cell_type": "markdown",
   "metadata": {},
   "source": [
    "Next we can define `domain` to contain $\\Omega$, as outlined above periodically for $[-1,1]$, and initialize a 1D `velocity` from the `initial` array.\n",
    "\n",
    "Just to illustrate, we'll also print some info about the velocity object: it's `phiflow.math` tensor with a size of 128. Note that the actual grid content is contained in the `values` of the grid. Below we're printing the first five values via the conversion to a numpy array with `numpy()`."
   ]
  },
  {
   "cell_type": "code",
   "execution_count": 2,
   "metadata": {},
   "outputs": [
    {
     "name": "stdout",
     "output_type": "stream",
     "text": [
      "Velocity tensor shape: (x=128, vector=1)\n",
      "Velocity tensor type: <class 'phi.math._tensors.NativeTensor'>\n",
      "Velocity tensor content: [[0.5569957 ]\n",
      " [0.5911083 ]\n",
      " [0.62823397]\n",
      " [0.68026114]\n",
      " [0.72364265]]\n"
     ]
    },
    {
     "name": "stderr",
     "output_type": "stream",
     "text": [
      "/Users/thuerey/Dropbox/mbaDevelSelected/phiflow-v2/phi/math/backend/_scipy_backend.py:255: RuntimeWarning: overflow encountered in exp\n",
      "  return np.exp(x)\n"
     ]
    }
   ],
   "source": [
    "domain = Domain(x=n, boundaries=PERIODIC, bounds=Box[-1:1])\n",
    "#velocity = domain.staggered_grid(initial)\n",
    "#velocity = domain.grid(initial)\n",
    "velocity = domain.grid(Noise(vector=1))\n",
    "\n",
    "print(\"Velocity tensor shape: \"   + format( velocity.shape )) # == velocity.values.shape\n",
    "print(\"Velocity tensor type: \"    + format( type(velocity.values) ))\n",
    "print(\"Velocity tensor content: \" + format( velocity.values.numpy()[0:5] ))"
   ]
  },
  {
   "cell_type": "markdown",
   "metadata": {},
   "source": [
    "## Running the simulation\n",
    "\n",
    "Now we're ready to run the simulation itself. To compute the diffusion and advection components of our model equation we can simply call the existing `diffusion` and `semi_lagrangian` operators in phiflow:"
   ]
  },
  {
   "cell_type": "code",
   "execution_count": 3,
   "metadata": {},
   "outputs": [
    {
     "name": "stdout",
     "output_type": "stream",
     "text": [
      "New velocity content at t=1.0: [[0.15099575]\n",
      " [0.16271012]\n",
      " [0.17444186]\n",
      " [0.18618482]\n",
      " [0.19793215]]\n"
     ]
    }
   ],
   "source": [
    "velocities = [velocity]\n",
    "age = 0.\n",
    "for i in range(steps):\n",
    "    v1 = field.diffuse(velocities[-1], nu, dt)\n",
    "    v2 = advect.semi_lagrangian(v1, v1, dt)\n",
    "    age += dt\n",
    "    velocities.append(v2)\n",
    "\n",
    "print(\"New velocity content at t={}: {}\".format( age, velocities[-1].values.numpy()[0:5] ))"
   ]
  },
  {
   "cell_type": "markdown",
   "metadata": {},
   "source": [
    "Here we're actually collecting all time steps in the `vels` list. This is not necessary in general (and could consume lots of memory for long-running sims), but useful here to show the evolution of the velocity states.\n",
    "\n",
    "The print statements print a few of the velocities and already shows that something is happening in our simulation, but it's difficult to get an intuition for the behavior of the PDE just from these numbers. Hence, let's visualize the states over time to show what is happening.\n",
    "\n",
    "## Visualization\n",
    "\n",
    "We can visualize them in graph: the following code shows the initial state in blue, and then times $10/32, 20/32, 1$ in green, cyan and purple. "
   ]
  },
  {
   "cell_type": "code",
   "execution_count": 4,
   "metadata": {},
   "outputs": [
    {
     "data": {
      "text/plain": [
       "[<matplotlib.lines.Line2D at 0x12754b810>]"
      ]
     },
     "execution_count": 4,
     "metadata": {},
     "output_type": "execute_result"
    },
    {
     "data": {
      "image/png": "[encoded data removed]",
      "text/plain": [
       "<Figure size 432x288 with 1 Axes>"
      ]
     },
     "metadata": {
      "needs_background": "light"
     },
     "output_type": "display_data"
    }
   ],
   "source": [
    "# we only need \"velocity.data\" from each phiflow state\n",
    "vels = [x.values.numpy() for x in velocities]\n",
    "\n",
    "# print(vels[0][0,:,0].shape)\n",
    "# print(vels[0].shape[1])\n",
    "\n",
    "import matplotlib.pyplot as plt\n",
    "\n",
    "fig = plt.figure().gca()\n",
    "fig.plot(np.linspace(-1,1,len(vels[ 0].flatten())), vels[ 0].flatten(), lw=2, color='blue')\n",
    "fig.plot(np.linspace(-1,1,len(vels[10].flatten())), vels[10].flatten(), lw=2, color='green')\n",
    "fig.plot(np.linspace(-1,1,len(vels[20].flatten())), vels[20].flatten(), lw=2, color='cyan')\n",
    "fig.plot(np.linspace(-1,1,len(vels[32].flatten())), vels[32].flatten(), lw=2, color='purple')\n"
   ]
  },
  {
   "cell_type": "markdown",
   "metadata": {},
   "source": [
    "This nicely shows the shock developing in the center of our domain, which forms from the collision of the two initial bumps which are located left and right of the center.\n",
    "\n",
    "As these lines can overlap quite a bit we'll also use a different visualization in the following chapters that shows the evolution over the course of all time steps in a 2D image. Our 1D domain will be shown along the Y-axis, and each point along X will represent one time step.\n",
    "\n",
    "The code below converts our collection of velocity states into a 2D array, repeating individual time steps 8 times to make the image a bit wider. This purely optional, of course, but makes it easier to see what's happening in our Burgers simulation."
   ]
  },
  {
   "cell_type": "code",
   "execution_count": 5,
   "metadata": {},
   "outputs": [
    {
     "name": "stdout",
     "output_type": "stream",
     "text": [
      "Vels array shape: (128, 33, 1)\n"
     ]
    },
    {
     "data": {
      "image/png": "[encoded data removed]",
      "text/plain": [
       "<Figure size 432x288 with 1 Axes>"
      ]
     },
     "metadata": {
      "needs_background": "light"
     },
     "output_type": "display_data"
    }
   ],
   "source": [
    "def show_state(a):\n",
    "    # we only have 33 time steps, blow up by a factor of 2^4 to make it easier to see\n",
    "    # (could also be done with more evaluations of network)\n",
    "    for i in range(4):\n",
    "        a = np.concatenate( [a,a] , axis=2)\n",
    "\n",
    "    a = np.reshape( a, [a.shape[0],a.shape[1]*a.shape[2]] )\n",
    "    #print(\"resulting image size\" +format(a.shape))\n",
    "    plt.imshow(a, origin='upper', cmap='magma')\n",
    "    \n",
    "vels_img = np.asarray( np.concatenate(vels, axis=-1), dtype=np.float32 )\n",
    "vels_img = np.reshape(vels_img, list(vels_img.shape)+[1] ) ; print(\"Vels array shape: \"+format(vels_img.shape))\n",
    "\n",
    "# save for comparison with reconstructions later on\n",
    "np.savez_compressed(\"./temp/burgers-groundtruth-solution.npz\", np.reshape(vels_img,[n,steps+1])) # remove batch & channel dimension\n",
    "\n",
    "show_state(vels_img)"
   ]
  },
  {
   "cell_type": "markdown",
   "metadata": {},
   "source": [
    "## Next steps\n",
    "\n",
    "Some things to try based on this simulation setup:\n",
    "\n",
    "- Feel free to experiment - the setup above is very simple, you can change the simulation parameters, or the initialization. E.g., you can use a noise field via `Noise(vector=1)` to get more chaotic results.\n",
    "- A bit more complicated: extend the simulation to 2D (or higher). This will require changes throughout, but all operators above support higher dimensions. Before trying this, you probably will want to check out the next example, which covers a 2D Navier-Stokes case."
   ]
  },
  {
   "cell_type": "code",
   "execution_count": null,
   "metadata": {},
   "outputs": [],
   "source": []
  }
 ],
 "metadata": {
  "kernelspec": {
   "display_name": "Python 3",
   "language": "python",
   "name": "python3"
  },
  "language_info": {
   "codemirror_mode": {
    "name": "ipython",
    "version": 3
   },
   "file_extension": ".py",
   "mimetype": "text/x-python",
   "name": "python",
   "nbconvert_exporter": "python",
   "pygments_lexer": "ipython3",
   "version": "3.7.6"
  }
 },
 "nbformat": 4,
 "nbformat_minor": 4
}
