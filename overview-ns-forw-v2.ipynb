{
 "cells": [
  {
   "cell_type": "markdown",
   "metadata": {
    "id": "o4JZ84moBKMr"
   },
   "source": [
    "# Navier-Stokes Forward Simulation\n",
    "\n",
    "Now let's target a somewhat more complex example: a fluid simulations based on the Navier-Stokes equations. This is still very simple with phiflow, as differentiable operators for all steps exist in Φ<sub>Flow</sub>. The Navier-Stokes equations (in their incompressible form) introduce an additional pressure field $p$, and a constraint for conservation of mass:\n",
    "\n",
    "$\\begin{align}\n",
    "    \\frac{\\partial \\mathbf{u}}{\\partial{t}} + \\mathbf{u} \\nabla \\mathbf{u} &= - \\frac{dt}{\\rho} \\nabla p + \\nu \\nabla\\cdot \\nabla \\mathbf{u} + \\mathbf{g} \\\\\n",
    "    \\nabla \\cdot \\mathbf{u} &= 0 \n",
    "\\end{align}$ \n",
    "\n",
    "Here $\\mathbf{g}$ collects the forcing terms. Below we'll use a simple buoyancy model. We'll solve this PDE on a closed domain with Dirchlet boundary conditions $\\mathbf{u}=0$ for the velocity, and Neumann boundaries $\\frac{\\partial p}{\\partial x}=0$ for pressure, on a domain $\\Omega$ with $100 \\times 80$ units. \n",
    "\n",
    "## Implementation\n",
    "\n",
    "As before, the first command with a \"!\" prefix installs the [Φ<sub>Flow</sub> Python package from GitHub](https://github.com/tum-pbs/PhiFlow) via `pip` in your python environment. (Skip or modify this command if necessary.)"
   ]
  },
  {
   "cell_type": "code",
   "execution_count": 1,
   "metadata": {
    "colab": {
     "base_uri": "https://localhost:8080/"
    },
    "id": "da1uZcDXdVcF",
    "outputId": "1082dc87-796c-4b57-e72e-5790fc1444c9"
   },
   "outputs": [],
   "source": [
    "#!pip install --upgrade --quiet phiflow\n",
    "from phi.flow import *  # The Dash GUI is not supported on Google Colab, ignore the warning\n",
    "import pylab"
   ]
  },
  {
   "cell_type": "markdown",
   "metadata": {
    "id": "BVV1IKVqDfLl"
   },
   "source": [
    "## Setting up the simulation\n",
    "\n",
    "Φ<sub>Flow</sub> is object-oriented and centered around field data in the form of tensor object. I.e. you assemble your simulation by constructing a number of tensors, and updating them over the course of time steps.\n",
    "\n",
    "The following code sets up a simulation domain, an inflow object to emit a smoke density, and three field: a staggerend `velocity` grid, and two centered grids for the smoke density and a pressure field. We'll use $40\\times32$ cells to discretize our domain, introduce a slight viscosity via $\\nu$, and define the time step to be $\\Delta t=1.5$."
   ]
  },
  {
   "cell_type": "code",
   "execution_count": 2,
   "metadata": {
    "id": "WrA3IXDxv31P"
   },
   "outputs": [],
   "source": [
    "domain = Domain(x=40, y=32, boundaries=CLOSED, bounds=Box[0:100, 0:80])\n",
    "inflow = domain.grid(Sphere(center=(30, 15), radius=10)) * 0.2\n",
    "\n",
    "dt = 1.5\n",
    "nu = 0.01\n",
    "velocity = domain.staggered_grid(0)  # alternatively vector_grid(0)\n",
    "smoke = pressure = divergence = domain.grid(0)"
   ]
  },
  {
   "cell_type": "markdown",
   "metadata": {
    "id": "ExA0Pi2sFVka"
   },
   "source": [
    "The inflow will be used to inject smoke into the `smoke` tensor. Note that we've defined a `Box` of size $100x100$ above. This is the scale in terms of spatial units in our simulation, i.e., a velocity of magnitude $1$ will move the smoke density by 1 unit per 1 time unit. You could parametrize your simulation to directly resemble physical units, or keep conversion factors in mind for the simulation units. \n",
    "\n",
    "The inflow sphere above is already using the \"world\" coordinates: it is located at $x=30$ along the first axis, and $y=15$ (within the $100x100$ domain box).\n",
    "\n",
    "Let's define the update step, and plot the marker density after one simulation frame."
   ]
  },
  {
   "cell_type": "code",
   "execution_count": 3,
   "metadata": {
    "colab": {
     "base_uri": "https://localhost:8080/",
     "height": 282
    },
    "id": "WmGZdOwswOva",
    "outputId": "3ae4d68d-b586-4bbe-eca9-a223d7720949"
   },
   "outputs": [
    {
     "name": "stdout",
     "output_type": "stream",
     "text": [
      "Max. velocity and mean density: [0.135354, 0.007865495]\n"
     ]
    },
    {
     "data": {
      "text/plain": [
       "<matplotlib.image.AxesImage at 0x124c68250>"
      ]
     },
     "execution_count": 3,
     "metadata": {},
     "output_type": "execute_result"
    },
    {
     "data": {
      "image/png": "[encoded data removed]",
      "text/plain": [
       "<Figure size 432x288 with 1 Axes>"
      ]
     },
     "metadata": {
      "needs_background": "light"
     },
     "output_type": "display_data"
    }
   ],
   "source": [
    "def step(velocity, smoke, pressure, buoyancy_factor=1.0):\n",
    "    smoke = advect.semi_lagrangian(smoke, velocity, dt) + inflow\n",
    "    buoyancy_force = smoke * (0, buoyancy_factor) >> velocity  # resamples smoke to velocity sample points\n",
    "    velocity = advect.semi_lagrangian(velocity, velocity, 1) + dt * buoyancy_force\n",
    "    velocity = field.diffuse(velocity, nu, dt)\n",
    "    velocity, pressure, iterations, divergence = fluid.make_incompressible(velocity, domain, pressure_guess=pressure)\n",
    "    return velocity, smoke, pressure\n",
    "\n",
    "velocity, smoke, pressure = step(velocity, smoke, pressure)\n",
    "\n",
    "print(\"Max. velocity and mean density: \" + format( [ math.max(velocity.values) , math.mean(smoke.values) ] ))\n",
    "\n",
    "pylab.imshow(np.asarray(smoke.values.numpy('y,x')), origin='lower', cmap='magma')"
   ]
  },
  {
   "cell_type": "markdown",
   "metadata": {},
   "source": [
    "A lot has happened in this `step()` call: we've advected the smoke field, added an upwards force via a Boussinesq model, advected the velocity field, and finally made it divergence free via a pressure solve.\n",
    "\n",
    "The Boussinesq model uses a multiplication by a tuple `(0, buoyancy_factor)` to turn the smoke field into a 2 component force field, sampled at the staggered velocity components via the `>>` operator. \n",
    "\n",
    "The pressure projection step in `make_incompressible` is typically the computationally most expensive step in the sequence above. It solves a Poisson equation for the boundary conditions of the domain, and updates the velocity field with the gradient of the computed pressure.\n",
    "\n",
    "Just for testing, we've also printed the mean value of the velocities, and the max density after the update. As you can see in the resulting image, we have a first round region of smoke, with a slight upwards motion (which does not show here yet). "
   ]
  },
  {
   "cell_type": "code",
   "execution_count": 4,
   "metadata": {},
   "outputs": [],
   "source": [
    "# ? print(\"Fluid state: \" + format(fluid.state))\n",
    "# ? print(\"\\nVelocity content:\")\n",
    "# ? [print(grid.data.shape) for grid in fluid.velocity.unstack()];"
   ]
  },
  {
   "cell_type": "markdown",
   "metadata": {},
   "source": [
    "# TODO\n",
    "\n",
    "Note that we actually created two variables, one for each velocity component. If you're interested in how this  works, have a look at the [Struct documentation](https://github.com/tum-pbs/PhiFlow/blob/master/documentation/Structs.ipynb).\n",
    "\n",
    "If you look closely at the output from the last `print` command, you'll notice that the shapes of the variables differ. This is because the velocity is sampled in [staggered form](https://github.com/tum-pbs/PhiFlow/blob/master/documentation/Staggered_Grids.md).\n",
    "\n",
    "With this setup, we can easily advance the simulation forward in time a bit more by repeatedly calling the `step` function."
   ]
  },
  {
   "cell_type": "code",
   "execution_count": 5,
   "metadata": {
    "colab": {
     "base_uri": "https://localhost:8080/"
    },
    "id": "0hZk5HX3w4Or",
    "outputId": "f7811af7-4b58-4ff6-a8b6-6e7bedefaa6e"
   },
   "outputs": [
    {
     "name": "stdout",
     "output_type": "stream",
     "text": [
      "Computed frame 0, max velocity 0.40485728\n",
      "Computed frame 1, max velocity 0.80262446\n",
      "Computed frame 2, max velocity 1.3215623\n",
      "Computed frame 3, max velocity 1.99783\n",
      "Computed frame 4, max velocity 2.8307805\n",
      "Computed frame 5, max velocity 3.756278\n",
      "Computed frame 6, max velocity 4.5489845\n",
      "Computed frame 7, max velocity 5.147038\n",
      "Computed frame 8, max velocity 5.5985193\n",
      "Computed frame 9, max velocity 6.0121617\n"
     ]
    }
   ],
   "source": [
    "for frame in range(10):\n",
    "    velocity, smoke, pressure = step(velocity, smoke, pressure)\n",
    "    print('Computed frame {}, max velocity {}'.format(frame , np.asarray(math.max(velocity.values)) ))\n"
   ]
  },
  {
   "cell_type": "markdown",
   "metadata": {
    "id": "GMKKWQBLHIwP"
   },
   "source": [
    "Now the hot plume is starting to rise:"
   ]
  },
  {
   "cell_type": "code",
   "execution_count": 6,
   "metadata": {
    "colab": {
     "base_uri": "https://localhost:8080/",
     "height": 282
    },
    "id": "Mfl80CjZxZcL",
    "outputId": "92f3a9ba-d403-4799-a543-132ee8ed234c"
   },
   "outputs": [
    {
     "data": {
      "text/plain": [
       "<matplotlib.image.AxesImage at 0x124ee0990>"
      ]
     },
     "execution_count": 6,
     "metadata": {},
     "output_type": "execute_result"
    },
    {
     "data": {
      "image/png": "[encoded data removed]",
      "text/plain": [
       "<Figure size 432x288 with 1 Axes>"
      ]
     },
     "metadata": {
      "needs_background": "light"
     },
     "output_type": "display_data"
    }
   ],
   "source": [
    "pylab.imshow(smoke.values.numpy('y,x'), origin='lower', cmap='magma')"
   ]
  },
  {
   "cell_type": "markdown",
   "metadata": {
    "id": "wnbQJvA-HPSL"
   },
   "source": [
    "Let's compute and show a few more steps of the simulation. Because of the inflow being located off-center to the left (with x position 30), the plume will curve towards the right when it hits the top wall of the domain."
   ]
  },
  {
   "cell_type": "code",
   "execution_count": 7,
   "metadata": {
    "colab": {
     "base_uri": "https://localhost:8080/",
     "height": 489
    },
    "id": "tkhCOzc0ITsj",
    "outputId": "f6366c12-1eb5-4ff6-e0d7-94b806bfd8e4"
   },
   "outputs": [
    {
     "name": "stdout",
     "output_type": "stream",
     "text": [
      "Computing frame 0\n",
      "Computing frame 1\n",
      "Computing frame 2\n",
      "Computing frame 3\n",
      "Computing frame 4\n",
      "Computing frame 5\n",
      "Computing frame 6\n",
      "Computing frame 7\n",
      "Computing frame 8\n",
      "Computing frame 9\n",
      "Computing frame 10\n",
      "Computing frame 11\n",
      "Computing frame 12\n",
      "Computing frame 13\n",
      "Computing frame 14\n",
      "Computing frame 15\n",
      "Computing frame 16\n",
      "Computing frame 17\n",
      "Computing frame 18\n",
      "Computing frame 19\n"
     ]
    },
    {
     "data": {
      "text/plain": [
       "<matplotlib.image.AxesImage at 0x124f7e550>"
      ]
     },
     "execution_count": 7,
     "metadata": {},
     "output_type": "execute_result"
    },
    {
     "data": {
      "image/png": "[encoded data removed]",
      "text/plain": [
       "<Figure size 432x288 with 1 Axes>"
      ]
     },
     "metadata": {
      "needs_background": "light"
     },
     "output_type": "display_data"
    }
   ],
   "source": [
    "frames = [smoke.values.numpy('y,x')]\n",
    "for frame in range(20):\n",
    "  print('Computing frame %d' % frame)\n",
    "  velocity, smoke, pressure = step(velocity, smoke, pressure)\n",
    "  if frame%5==0:\n",
    "    frames.append(smoke.values.numpy('y,x'))\n",
    "\n",
    "pylab.imshow(np.concatenate(frames,axis=1), origin='lower', cmap='magma')"
   ]
  },
  {
   "cell_type": "markdown",
   "metadata": {
    "id": "ooqVxCPM8PXl"
   },
   "source": [
    "It looks simple here, but this simulation setup is a powerful tool. The simulation could easily be extended to more complex cases or 3D, and they're fully compatible with back-propagation pipelines of deep learning frameworks. \n",
    "\n",
    "In the next chapters we'll show how to use these simulations for training NNs, and how to steer and modify them via trained NNs. This will illustrate how much we can improve the training process by having a solver in the loop, and especially by having differentiable solvers."
   ]
  },
  {
   "cell_type": "code",
   "execution_count": null,
   "metadata": {
    "id": "BL-AOqwMJmkq"
   },
   "outputs": [],
   "source": []
  }
 ],
 "metadata": {
  "colab": {
   "collapsed_sections": [],
   "name": "Forw Simulations with Φ-Flow.ipynb",
   "provenance": []
  },
  "kernelspec": {
   "display_name": "Python 3",
   "language": "python",
   "name": "python3"
  },
  "language_info": {
   "codemirror_mode": {
    "name": "ipython",
    "version": 3
   },
   "file_extension": ".py",
   "mimetype": "text/x-python",
   "name": "python",
   "nbconvert_exporter": "python",
   "pygments_lexer": "ipython3",
   "version": "3.7.6"
  }
 },
 "nbformat": 4,
 "nbformat_minor": 1
}
